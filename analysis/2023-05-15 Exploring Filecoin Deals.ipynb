{
 "cells": [
  {
   "attachments": {},
   "cell_type": "markdown",
   "metadata": {},
   "source": [
    "# Exploring Filecoin Deals "
   ]
  },
  {
   "attachments": {},
   "cell_type": "markdown",
   "metadata": {},
   "source": [
    "Storage deals are core to Filecoin. They are the [main mechanism by which clients and storage providers interact](https://filecoin.io/blog/posts/how-storage-and-retrieval-deals-work-on-filecoin/). \n",
    "\n",
    "Let's explore the data!"
   ]
  },
  {
   "attachments": {},
   "cell_type": "markdown",
   "metadata": {},
   "source": [
    "## Data Sources\n",
    "\n",
    "Deals data is available on-chain (via the [`StateMarketDeals`](https://lotus.filecoin.io/reference/lotus/state/#statemarketdeals) JSON-RPC method). \n",
    "\n",
    "Alternatively you can use an [oracle like `fil-naive-marketwatch`](https://github.com/ribasushi/fil-naive-marketwatch), rely on APIs like [Spacescope](https://spacescope.io/) for aggregated data or reconstruct the deals from [Lily](https://lilium.sh/) CSV dumps\n",
    "\n",
    "I'll rely on [Glif nodes](https://lotus.filecoin.io/lotus/developers/glif-nodes/) export of `StateMarketDeals` on S3 ([direct link](https://marketdeals.s3.amazonaws.com/StateMarketDeals.json.zst)). "
   ]
  },
  {
   "cell_type": "code",
   "execution_count": 2,
   "metadata": {},
   "outputs": [],
   "source": [
    "import urllib\n",
    "import zstandard\n",
    "import ijson\n",
    "import json\n",
    "\n",
    "STATE_MARKET_DEALS_URL = (\n",
    "    \"https://marketdeals.s3.amazonaws.com/StateMarketDeals.json.zst\"\n",
    ")\n",
    "\n",
    "# Download the file\n",
    "urllib.request.urlretrieve(\n",
    "    STATE_MARKET_DEALS_URL,\n",
    "    \"/tmp/StateMarketDeals.json.zst\",\n",
    ")\n",
    "\n",
    "# Decompress the file\n",
    "dctx = zstandard.ZstdDecompressor()\n",
    "with open(\"/tmp/StateMarketDeals.json.zst\", \"rb\") as fh:\n",
    "    stream_reader = dctx.stream_reader(fh)\n",
    "    output = stream_reader.read()\n",
    "    with open(\"/tmp/StateMarketDeals.json\", \"wb\") as f:\n",
    "        f.write(output)\n",
    "\n",
    "# Parse the file\n",
    "with open(\"/tmp/ParsedStateMarketDeals.json\", \"w\") as f:\n",
    "    for k, v in ijson.kvitems(open(\"/tmp/StateMarketDeals.json\"), \"\"):\n",
    "        v[\"DealID\"] = k\n",
    "        f.write(json.dumps(v) + \"\\n\")\n"
   ]
  },
  {
   "attachments": {},
   "cell_type": "markdown",
   "metadata": {},
   "source": [
    "Something similar can be done in `jq` with:\n",
    "\n",
    "```bash\n",
    "jq --stream 'fromstream(1|truncate_stream(inputs))' -c StateMarketDeals.json\n",
    "```\n",
    "\n",
    "Now we have a large JSON file with all the deals on-chain!"
   ]
  },
  {
   "cell_type": "code",
   "execution_count": 3,
   "metadata": {},
   "outputs": [
    {
     "data": {
      "text/html": [
       "<div>\n",
       "<style scoped>\n",
       "    .dataframe tbody tr th:only-of-type {\n",
       "        vertical-align: middle;\n",
       "    }\n",
       "\n",
       "    .dataframe tbody tr th {\n",
       "        vertical-align: top;\n",
       "    }\n",
       "\n",
       "    .dataframe thead th {\n",
       "        text-align: right;\n",
       "    }\n",
       "</style>\n",
       "<table border=\"1\" class=\"dataframe\">\n",
       "  <thead>\n",
       "    <tr style=\"text-align: right;\">\n",
       "      <th></th>\n",
       "      <th>DealID</th>\n",
       "      <th>PieceCID</th>\n",
       "      <th>PieceSize</th>\n",
       "      <th>VerifiedDeal</th>\n",
       "      <th>Client</th>\n",
       "      <th>Provider</th>\n",
       "      <th>Label</th>\n",
       "      <th>StartEpoch</th>\n",
       "      <th>EndEpoch</th>\n",
       "      <th>StoragePricePerEpoch</th>\n",
       "      <th>ProviderCollateral</th>\n",
       "      <th>ClientCollateral</th>\n",
       "      <th>SectorStartEpoch</th>\n",
       "      <th>LastUpdatedEpoch</th>\n",
       "      <th>SlashEpoch</th>\n",
       "      <th>VerifiedClaim</th>\n",
       "    </tr>\n",
       "  </thead>\n",
       "  <tbody>\n",
       "    <tr>\n",
       "      <th>0</th>\n",
       "      <td>159155</td>\n",
       "      <td>{'/': 'baga6ea4seaqaazz4brpn3zde6dkorq3muck42q...</td>\n",
       "      <td>65536</td>\n",
       "      <td>False</td>\n",
       "      <td>f020319</td>\n",
       "      <td>f016305</td>\n",
       "      <td>mAXESINiz1A6zzmVo8QoU7wKbP+gB3PGSyA43a4ZukzHIxc3z</td>\n",
       "      <td>1281643200</td>\n",
       "      <td>1282165340</td>\n",
       "      <td>0</td>\n",
       "      <td>0</td>\n",
       "      <td>0</td>\n",
       "      <td>-1</td>\n",
       "      <td>-1</td>\n",
       "      <td>-1</td>\n",
       "      <td>0</td>\n",
       "    </tr>\n",
       "    <tr>\n",
       "      <th>1</th>\n",
       "      <td>159170</td>\n",
       "      <td>{'/': 'baga6ea4seaqaazz4brpn3zde6dkorq3muck42q...</td>\n",
       "      <td>65536</td>\n",
       "      <td>False</td>\n",
       "      <td>f020319</td>\n",
       "      <td>f016305</td>\n",
       "      <td>mAXESINiz1A6zzmVo8QoU7wKbP+gB3PGSyA43a4ZukzHIxc3z</td>\n",
       "      <td>1282046400</td>\n",
       "      <td>1282568540</td>\n",
       "      <td>0</td>\n",
       "      <td>0</td>\n",
       "      <td>0</td>\n",
       "      <td>-1</td>\n",
       "      <td>-1</td>\n",
       "      <td>-1</td>\n",
       "      <td>0</td>\n",
       "    </tr>\n",
       "    <tr>\n",
       "      <th>2</th>\n",
       "      <td>159181</td>\n",
       "      <td>{'/': 'baga6ea4seaqaazz4brpn3zde6dkorq3muck42q...</td>\n",
       "      <td>65536</td>\n",
       "      <td>False</td>\n",
       "      <td>f020319</td>\n",
       "      <td>f016309</td>\n",
       "      <td>mAXESINiz1A6zzmVo8QoU7wKbP+gB3PGSyA43a4ZukzHIxc3z</td>\n",
       "      <td>1282608000</td>\n",
       "      <td>1283129618</td>\n",
       "      <td>0</td>\n",
       "      <td>0</td>\n",
       "      <td>0</td>\n",
       "      <td>-1</td>\n",
       "      <td>-1</td>\n",
       "      <td>-1</td>\n",
       "      <td>0</td>\n",
       "    </tr>\n",
       "    <tr>\n",
       "      <th>3</th>\n",
       "      <td>159183</td>\n",
       "      <td>{'/': 'baga6ea4seaqcjw5o3bbrn6u2tgv7j7lihxufsm...</td>\n",
       "      <td>1048576</td>\n",
       "      <td>False</td>\n",
       "      <td>f020319</td>\n",
       "      <td>f016305</td>\n",
       "      <td>mAXESIN6mq1OV8vx3Wq/vL7IaZX5f+bmEIatiFHnvR4ZNhLVr</td>\n",
       "      <td>1282608000</td>\n",
       "      <td>1283130140</td>\n",
       "      <td>0</td>\n",
       "      <td>0</td>\n",
       "      <td>0</td>\n",
       "      <td>-1</td>\n",
       "      <td>-1</td>\n",
       "      <td>-1</td>\n",
       "      <td>0</td>\n",
       "    </tr>\n",
       "    <tr>\n",
       "      <th>4</th>\n",
       "      <td>159188</td>\n",
       "      <td>{'/': 'baga6ea4seaqkkyehwbcfh6l72e2jrooyqvbbr6...</td>\n",
       "      <td>4096</td>\n",
       "      <td>False</td>\n",
       "      <td>f020319</td>\n",
       "      <td>f016304</td>\n",
       "      <td>mAXESIOBDGaYV/UAiPSsJZDXHqoU4SYqq7nJ0/tagst+ls8d9</td>\n",
       "      <td>1282680000</td>\n",
       "      <td>1283202204</td>\n",
       "      <td>0</td>\n",
       "      <td>0</td>\n",
       "      <td>0</td>\n",
       "      <td>-1</td>\n",
       "      <td>-1</td>\n",
       "      <td>-1</td>\n",
       "      <td>0</td>\n",
       "    </tr>\n",
       "    <tr>\n",
       "      <th>5</th>\n",
       "      <td>159189</td>\n",
       "      <td>{'/': 'baga6ea4seaqojxopcje7y4biwj3qs2xt3srmci...</td>\n",
       "      <td>4096</td>\n",
       "      <td>False</td>\n",
       "      <td>f020319</td>\n",
       "      <td>f016305</td>\n",
       "      <td>mAXESIAjeNqjrNMiI9wdUEG54r2AaDGf1WfvfXjuutGQ/esch</td>\n",
       "      <td>1282680000</td>\n",
       "      <td>1283202140</td>\n",
       "      <td>0</td>\n",
       "      <td>0</td>\n",
       "      <td>0</td>\n",
       "      <td>-1</td>\n",
       "      <td>-1</td>\n",
       "      <td>-1</td>\n",
       "      <td>0</td>\n",
       "    </tr>\n",
       "    <tr>\n",
       "      <th>6</th>\n",
       "      <td>159190</td>\n",
       "      <td>{'/': 'baga6ea4seaqpg2hxv5os6bygcipqks537txiao...</td>\n",
       "      <td>4096</td>\n",
       "      <td>False</td>\n",
       "      <td>f020319</td>\n",
       "      <td>f016303</td>\n",
       "      <td>mAXESIKtGtBrFsswfb5KZRnLb06BxpxE2ZJiuTQjWwUEy4dT5</td>\n",
       "      <td>1282680000</td>\n",
       "      <td>1283204137</td>\n",
       "      <td>0</td>\n",
       "      <td>0</td>\n",
       "      <td>0</td>\n",
       "      <td>-1</td>\n",
       "      <td>-1</td>\n",
       "      <td>-1</td>\n",
       "      <td>0</td>\n",
       "    </tr>\n",
       "    <tr>\n",
       "      <th>7</th>\n",
       "      <td>159191</td>\n",
       "      <td>{'/': 'baga6ea4seaqoxyynqy3cbeutvbiygtlk6jw6wc...</td>\n",
       "      <td>4096</td>\n",
       "      <td>False</td>\n",
       "      <td>f020319</td>\n",
       "      <td>f016309</td>\n",
       "      <td>mAXESIFcZ1jlnoL7/DPtkuvcTlV0aYMyeLo5YL5ivYcTLf+lj</td>\n",
       "      <td>1282680000</td>\n",
       "      <td>1283201618</td>\n",
       "      <td>0</td>\n",
       "      <td>0</td>\n",
       "      <td>0</td>\n",
       "      <td>-1</td>\n",
       "      <td>-1</td>\n",
       "      <td>-1</td>\n",
       "      <td>0</td>\n",
       "    </tr>\n",
       "    <tr>\n",
       "      <th>8</th>\n",
       "      <td>159192</td>\n",
       "      <td>{'/': 'baga6ea4seaqgxbzhjoaxjpzcqozmb6nznm6y45...</td>\n",
       "      <td>4096</td>\n",
       "      <td>False</td>\n",
       "      <td>f020319</td>\n",
       "      <td>f016303</td>\n",
       "      <td>mAXESIFvyl9nFfaMUEQ2XoY8SDTnhpybAFU/hcn98nkyQnVl6</td>\n",
       "      <td>1282680000</td>\n",
       "      <td>1283204137</td>\n",
       "      <td>0</td>\n",
       "      <td>0</td>\n",
       "      <td>0</td>\n",
       "      <td>-1</td>\n",
       "      <td>-1</td>\n",
       "      <td>-1</td>\n",
       "      <td>0</td>\n",
       "    </tr>\n",
       "    <tr>\n",
       "      <th>9</th>\n",
       "      <td>159193</td>\n",
       "      <td>{'/': 'baga6ea4seaqkwr7zajmbufki6sgx2f3cqcjbq3...</td>\n",
       "      <td>8192</td>\n",
       "      <td>False</td>\n",
       "      <td>f020319</td>\n",
       "      <td>f016309</td>\n",
       "      <td>mAXESIHyfVbyMVkTSYC2mCSewpvokw5I8LEBwQuwEvTsvAios</td>\n",
       "      <td>1282694400</td>\n",
       "      <td>1283216018</td>\n",
       "      <td>0</td>\n",
       "      <td>0</td>\n",
       "      <td>0</td>\n",
       "      <td>-1</td>\n",
       "      <td>-1</td>\n",
       "      <td>-1</td>\n",
       "      <td>0</td>\n",
       "    </tr>\n",
       "  </tbody>\n",
       "</table>\n",
       "</div>"
      ],
      "text/plain": [
       "   DealID                                           PieceCID  PieceSize  \\\n",
       "0  159155  {'/': 'baga6ea4seaqaazz4brpn3zde6dkorq3muck42q...      65536   \n",
       "1  159170  {'/': 'baga6ea4seaqaazz4brpn3zde6dkorq3muck42q...      65536   \n",
       "2  159181  {'/': 'baga6ea4seaqaazz4brpn3zde6dkorq3muck42q...      65536   \n",
       "3  159183  {'/': 'baga6ea4seaqcjw5o3bbrn6u2tgv7j7lihxufsm...    1048576   \n",
       "4  159188  {'/': 'baga6ea4seaqkkyehwbcfh6l72e2jrooyqvbbr6...       4096   \n",
       "5  159189  {'/': 'baga6ea4seaqojxopcje7y4biwj3qs2xt3srmci...       4096   \n",
       "6  159190  {'/': 'baga6ea4seaqpg2hxv5os6bygcipqks537txiao...       4096   \n",
       "7  159191  {'/': 'baga6ea4seaqoxyynqy3cbeutvbiygtlk6jw6wc...       4096   \n",
       "8  159192  {'/': 'baga6ea4seaqgxbzhjoaxjpzcqozmb6nznm6y45...       4096   \n",
       "9  159193  {'/': 'baga6ea4seaqkwr7zajmbufki6sgx2f3cqcjbq3...       8192   \n",
       "\n",
       "   VerifiedDeal   Client Provider  \\\n",
       "0         False  f020319  f016305   \n",
       "1         False  f020319  f016305   \n",
       "2         False  f020319  f016309   \n",
       "3         False  f020319  f016305   \n",
       "4         False  f020319  f016304   \n",
       "5         False  f020319  f016305   \n",
       "6         False  f020319  f016303   \n",
       "7         False  f020319  f016309   \n",
       "8         False  f020319  f016303   \n",
       "9         False  f020319  f016309   \n",
       "\n",
       "                                               Label  StartEpoch    EndEpoch  \\\n",
       "0  mAXESINiz1A6zzmVo8QoU7wKbP+gB3PGSyA43a4ZukzHIxc3z  1281643200  1282165340   \n",
       "1  mAXESINiz1A6zzmVo8QoU7wKbP+gB3PGSyA43a4ZukzHIxc3z  1282046400  1282568540   \n",
       "2  mAXESINiz1A6zzmVo8QoU7wKbP+gB3PGSyA43a4ZukzHIxc3z  1282608000  1283129618   \n",
       "3  mAXESIN6mq1OV8vx3Wq/vL7IaZX5f+bmEIatiFHnvR4ZNhLVr  1282608000  1283130140   \n",
       "4  mAXESIOBDGaYV/UAiPSsJZDXHqoU4SYqq7nJ0/tagst+ls8d9  1282680000  1283202204   \n",
       "5  mAXESIAjeNqjrNMiI9wdUEG54r2AaDGf1WfvfXjuutGQ/esch  1282680000  1283202140   \n",
       "6  mAXESIKtGtBrFsswfb5KZRnLb06BxpxE2ZJiuTQjWwUEy4dT5  1282680000  1283204137   \n",
       "7  mAXESIFcZ1jlnoL7/DPtkuvcTlV0aYMyeLo5YL5ivYcTLf+lj  1282680000  1283201618   \n",
       "8  mAXESIFvyl9nFfaMUEQ2XoY8SDTnhpybAFU/hcn98nkyQnVl6  1282680000  1283204137   \n",
       "9  mAXESIHyfVbyMVkTSYC2mCSewpvokw5I8LEBwQuwEvTsvAios  1282694400  1283216018   \n",
       "\n",
       "   StoragePricePerEpoch  ProviderCollateral  ClientCollateral  \\\n",
       "0                     0                   0                 0   \n",
       "1                     0                   0                 0   \n",
       "2                     0                   0                 0   \n",
       "3                     0                   0                 0   \n",
       "4                     0                   0                 0   \n",
       "5                     0                   0                 0   \n",
       "6                     0                   0                 0   \n",
       "7                     0                   0                 0   \n",
       "8                     0                   0                 0   \n",
       "9                     0                   0                 0   \n",
       "\n",
       "   SectorStartEpoch  LastUpdatedEpoch  SlashEpoch  VerifiedClaim  \n",
       "0                -1                -1          -1              0  \n",
       "1                -1                -1          -1              0  \n",
       "2                -1                -1          -1              0  \n",
       "3                -1                -1          -1              0  \n",
       "4                -1                -1          -1              0  \n",
       "5                -1                -1          -1              0  \n",
       "6                -1                -1          -1              0  \n",
       "7                -1                -1          -1              0  \n",
       "8                -1                -1          -1              0  \n",
       "9                -1                -1          -1              0  "
      ]
     },
     "execution_count": 3,
     "metadata": {},
     "output_type": "execute_result"
    }
   ],
   "source": [
    "import duckdb\n",
    "\n",
    "con = duckdb.connect(database=\"/tmp/database.duckdb\", read_only=False)\n",
    "\n",
    "con.execute(\n",
    "    \"\"\"\n",
    "    select DealID, Proposal.*, State.* from read_ndjson_auto(\"/tmp/ParsedStateMarketDeals.json\") limit 10\n",
    "    \"\"\"\n",
    ").df()\n"
   ]
  },
  {
   "cell_type": "code",
   "execution_count": 5,
   "metadata": {},
   "outputs": [
    {
     "data": {
      "application/vnd.jupyter.widget-view+json": {
       "model_id": "b43aed8941884aaf8c9ced697d717c8f",
       "version_major": 2,
       "version_minor": 0
      },
      "text/plain": [
       "FloatProgress(value=0.0, layout=Layout(width='auto'), style=ProgressStyle(bar_color='black'))"
      ]
     },
     "metadata": {},
     "output_type": "display_data"
    }
   ],
   "source": [
    "_ = con.execute(\n",
    "    \"\"\"\n",
    "    create or replace table state_market_deals as (\n",
    "        select DealID, Proposal.*, State.* from read_ndjson_auto(\"/tmp/ParsedStateMarketDeals.json\")\n",
    "    )\n",
    "    \"\"\"\n",
    ")\n"
   ]
  },
  {
   "cell_type": "code",
   "execution_count": 8,
   "metadata": {},
   "outputs": [
    {
     "data": {
      "text/plain": [
       "┌────────────────────────────┐\n",
       "│ total_pibs_in_active_deals │\n",
       "│           double           │\n",
       "├────────────────────────────┤\n",
       "│         1098.3741609410454 │\n",
       "└────────────────────────────┘"
      ]
     },
     "execution_count": 8,
     "metadata": {},
     "output_type": "execute_result"
    }
   ],
   "source": [
    "con.sql(\n",
    "    \"\"\"\n",
    "    select \n",
    "        sum(PieceSize) / 1024 ** 5 as total_pibs_in_active_deals,\n",
    "    from state_market_deals\n",
    "    where SectorStartEpoch > 0\n",
    "    \"\"\"\n",
    ")\n"
   ]
  },
  {
   "cell_type": "code",
   "execution_count": 5,
   "metadata": {},
   "outputs": [],
   "source": [
    "df = con.sql(\n",
    "    \"\"\"\n",
    "    select \n",
    "        DealID,\n",
    "        StartEpoch,\n",
    "        SectorStartEpoch,\n",
    "        StartEpoch - SectorStartEpoch as SectorStartLag,\n",
    "    from state_market_deals\n",
    "    where SectorStartEpoch > 0\n",
    "    \"\"\"\n",
    ").df()\n"
   ]
  },
  {
   "cell_type": "code",
   "execution_count": 6,
   "metadata": {},
   "outputs": [
    {
     "data": {
      "text/plain": [
       "count    3.640997e+07\n",
       "mean     1.564203e+04\n",
       "std      8.290045e+03\n",
       "min      0.000000e+00\n",
       "25%      1.258900e+04\n",
       "50%      1.364600e+04\n",
       "75%      1.799200e+04\n",
       "max      2.580400e+05\n",
       "Name: SectorStartLag, dtype: float64"
      ]
     },
     "execution_count": 6,
     "metadata": {},
     "output_type": "execute_result"
    },
    {
     "data": {
      "image/png": "[encoded data removed]",
      "text/plain": [
       "<Figure size 640x480 with 1 Axes>"
      ]
     },
     "metadata": {},
     "output_type": "display_data"
    }
   ],
   "source": [
    "_ = df[\"SectorStartLag\"].plot.hist(bins=100, xlim=(0, 50000))\n",
    "df[\"SectorStartLag\"].describe()\n"
   ]
  },
  {
   "cell_type": "code",
   "execution_count": 7,
   "metadata": {},
   "outputs": [
    {
     "data": {
      "application/vnd.jupyter.widget-view+json": {
       "model_id": "0b8431495431406697b5996ec389c2dc",
       "version_major": 2,
       "version_minor": 0
      },
      "text/plain": [
       "FloatProgress(value=0.0, layout=Layout(width='auto'), style=ProgressStyle(bar_color='black'))"
      ]
     },
     "metadata": {},
     "output_type": "display_data"
    },
    {
     "data": {
      "text/plain": [
       "<Axes: ylabel='Frequency'>"
      ]
     },
     "execution_count": 7,
     "metadata": {},
     "output_type": "execute_result"
    },
    {
     "data": {
      "image/png": "[encoded data removed]",
      "text/plain": [
       "<Figure size 640x480 with 1 Axes>"
      ]
     },
     "metadata": {},
     "output_type": "display_data"
    }
   ],
   "source": [
    "con.sql(\n",
    "    \"\"\"\n",
    "    select\n",
    "        PieceCID.\"/\" as piece_id,\n",
    "        count(*) as copies\n",
    "    from state_market_deals\n",
    "    where 1=1\n",
    "        and SectorStartEpoch != -1\n",
    "        and SlashEpoch = -1\n",
    "    group by piece_id\n",
    "    having copies < 20\n",
    "    order by 2 desc\n",
    "    \"\"\"\n",
    ").df().plot.hist(bins=20)\n"
   ]
  },
  {
   "cell_type": "code",
   "execution_count": 8,
   "metadata": {},
   "outputs": [
    {
     "data": {
      "text/plain": [
       "array([['baga6ea4seaqof356aeq4mvurh43yir2z6j3wguczeke4dy4lngbb7fwrmfpjydy',\n",
       "        10420],\n",
       "       ['baga6ea4seaqnvexhndom5ipydpn42c3va2jhuepv4bc7rwrc33t3x7gqkn53ugi',\n",
       "        8640],\n",
       "       ['baga6ea4seaqma3d2foqh3obhlxca2z4emobsarysx5pyrygroakuyxyd7sjzmby',\n",
       "        6518],\n",
       "       ['baga6ea4seaqfecaafawnex4i4z3dlpv5ngaxp5sa5spgf77mz3s3lvfidqom2da',\n",
       "        636],\n",
       "       ['baga6ea4seaqootvvm3rolzm7o4cdbshrgs4ceoe5rdwi6j6q52gmmkgtppwiogq',\n",
       "        631]], dtype=object)"
      ]
     },
     "execution_count": 8,
     "metadata": {},
     "output_type": "execute_result"
    }
   ],
   "source": [
    "con.sql(\n",
    "    \"\"\"\n",
    "    select\n",
    "        PieceCID.\"/\" as piece_id,\n",
    "        count(*) as copies\n",
    "    from state_market_deals\n",
    "    where 1=1\n",
    "        and SectorStartEpoch != -1\n",
    "        and SlashEpoch = -1\n",
    "    group by piece_id\n",
    "    order by copies desc\n",
    "    limit 5\n",
    "    \"\"\"\n",
    ").df().values\n"
   ]
  },
  {
   "cell_type": "code",
   "execution_count": 9,
   "metadata": {},
   "outputs": [
    {
     "data": {
      "text/html": [
       "<div>\n",
       "<style scoped>\n",
       "    .dataframe tbody tr th:only-of-type {\n",
       "        vertical-align: middle;\n",
       "    }\n",
       "\n",
       "    .dataframe tbody tr th {\n",
       "        vertical-align: top;\n",
       "    }\n",
       "\n",
       "    .dataframe thead th {\n",
       "        text-align: right;\n",
       "    }\n",
       "</style>\n",
       "<table border=\"1\" class=\"dataframe\">\n",
       "  <thead>\n",
       "    <tr style=\"text-align: right;\">\n",
       "      <th></th>\n",
       "      <th>Client</th>\n",
       "      <th>Provider</th>\n",
       "    </tr>\n",
       "  </thead>\n",
       "  <tbody>\n",
       "    <tr>\n",
       "      <th>0</th>\n",
       "      <td>f01624861</td>\n",
       "      <td>f01781851</td>\n",
       "    </tr>\n",
       "    <tr>\n",
       "      <th>1</th>\n",
       "      <td>f01624861</td>\n",
       "      <td>f01716466</td>\n",
       "    </tr>\n",
       "  </tbody>\n",
       "</table>\n",
       "</div>"
      ],
      "text/plain": [
       "      Client   Provider\n",
       "0  f01624861  f01781851\n",
       "1  f01624861  f01716466"
      ]
     },
     "execution_count": 9,
     "metadata": {},
     "output_type": "execute_result"
    }
   ],
   "source": [
    "con.sql(\n",
    "    \"\"\"\n",
    "    select distinct\n",
    "        Client,\n",
    "        Provider,\n",
    "    from state_market_deals\n",
    "    where PieceCID.\"/\" = 'baga6ea4seaqof356aeq4mvurh43yir2z6j3wguczeke4dy4lngbb7fwrmfpjydy'\n",
    "    \"\"\"\n",
    ").df()\n"
   ]
  }
 ],
 "metadata": {
  "kernelspec": {
   "display_name": "Python 3",
   "language": "python",
   "name": "python3"
  },
  "language_info": {
   "codemirror_mode": {
    "name": "ipython",
    "version": 3
   },
   "file_extension": ".py",
   "mimetype": "text/x-python",
   "name": "python",
   "nbconvert_exporter": "python",
   "pygments_lexer": "ipython3",
   "version": "3.11.4"
  },
  "orig_nbformat": 4
 },
 "nbformat": 4,
 "nbformat_minor": 2
}
