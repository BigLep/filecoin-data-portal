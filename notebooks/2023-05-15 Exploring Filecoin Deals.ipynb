{
 "cells": [
  {
   "attachments": {},
   "cell_type": "markdown",
   "metadata": {},
   "source": [
    "# Exploring Filecoin Deals "
   ]
  },
  {
   "attachments": {},
   "cell_type": "markdown",
   "metadata": {},
   "source": [
    "Storage deals are core to Filecoin. They are the [main mechanism by which clients and storage providers interact](https://filecoin.io/blog/posts/how-storage-and-retrieval-deals-work-on-filecoin/). \n",
    "\n",
    "Let's explore the data!"
   ]
  },
  {
   "attachments": {},
   "cell_type": "markdown",
   "metadata": {},
   "source": [
    "## Data Sources\n",
    "\n",
    "Deals data is available from the on-chain state (via the [`StateMarketDeals`](https://lotus.filecoin.io/reference/lotus/state/#statemarketdeals) JSON-RPC method). The state doesn't reflect the historical deals, but should be enough to get a sense of things.\n",
    "\n",
    "Alternatively you can use an [oracle like `fil-naive-marketwatch`](https://github.com/ribasushi/fil-naive-marketwatch), rely on APIs like [Spacescope](https://spacescope.io/) for aggregated data or reconstruct the deals from [Lily](https://lilium.sh/) CSV dumps, which can provide all deals in Filecoin history.\n",
    "\n",
    "I'll rely on [Glif nodes](https://lotus.filecoin.io/lotus/developers/glif-nodes/) export of `StateMarketDeals` on S3 ([direct link](https://marketdeals.s3.amazonaws.com/StateMarketDeals.json.zst)). "
   ]
  },
  {
   "cell_type": "code",
   "execution_count": 1,
   "metadata": {},
   "outputs": [],
   "source": [
    "%load_ext sql\n",
    "%sql duckdb://"
   ]
  },
  {
   "cell_type": "code",
   "execution_count": 3,
   "metadata": {},
   "outputs": [
    {
     "data": {
      "text/html": [
       "<span style=\"None\">Running query in &#x27;duckdb://&#x27;</span>"
      ],
      "text/plain": [
       "Running query in 'duckdb://'"
      ]
     },
     "metadata": {},
     "output_type": "display_data"
    },
    {
     "data": {
      "application/vnd.jupyter.widget-view+json": {
       "model_id": "789713542b444696b9a04d97e993bcc7",
       "version_major": 2,
       "version_minor": 0
      },
      "text/plain": [
       "FloatProgress(value=0.0, layout=Layout(width='auto'), style=ProgressStyle(bar_color='black'))"
      ]
     },
     "metadata": {},
     "output_type": "display_data"
    },
    {
     "data": {
      "text/html": [
       "<table>\n",
       "    <thead>\n",
       "        <tr>\n",
       "            <th>Count</th>\n",
       "        </tr>\n",
       "    </thead>\n",
       "    <tbody>\n",
       "        <tr>\n",
       "            <td>37938341</td>\n",
       "        </tr>\n",
       "    </tbody>\n",
       "</table>"
      ],
      "text/plain": [
       "+----------+\n",
       "|  Count   |\n",
       "+----------+\n",
       "| 37938341 |\n",
       "+----------+"
      ]
     },
     "execution_count": 3,
     "metadata": {},
     "output_type": "execute_result"
    }
   ],
   "source": [
    "%%sql \n",
    "\n",
    "create table filecoin_state_market_deals as (\n",
    "    select DealID, Proposal.*, State.* from read_ndjson_auto(\"/tmp/ParsedStateMarketDeals.json\")\n",
    ")"
   ]
  },
  {
   "cell_type": "code",
   "execution_count": 5,
   "metadata": {},
   "outputs": [
    {
     "data": {
      "text/html": [
       "<span style=\"None\">Running query in &#x27;duckdb://&#x27;</span>"
      ],
      "text/plain": [
       "Running query in 'duckdb://'"
      ]
     },
     "metadata": {},
     "output_type": "display_data"
    },
    {
     "data": {
      "text/html": [
       "<table>\n",
       "    <thead>\n",
       "        <tr>\n",
       "            <th>total_pibs_in_active_deals</th>\n",
       "        </tr>\n",
       "    </thead>\n",
       "    <tbody>\n",
       "        <tr>\n",
       "            <td>1134.5030589004118</td>\n",
       "        </tr>\n",
       "    </tbody>\n",
       "</table>"
      ],
      "text/plain": [
       "+----------------------------+\n",
       "| total_pibs_in_active_deals |\n",
       "+----------------------------+\n",
       "|     1134.5030589004118     |\n",
       "+----------------------------+"
      ]
     },
     "execution_count": 5,
     "metadata": {},
     "output_type": "execute_result"
    }
   ],
   "source": [
    "%%sql\n",
    "\n",
    "select \n",
    "    sum(PieceSize) / 1024 ** 5 as total_pibs_in_active_deals,\n",
    "from filecoin_state_market_deals\n",
    "where SectorStartEpoch > 0"
   ]
  },
  {
   "cell_type": "code",
   "execution_count": 10,
   "metadata": {},
   "outputs": [
    {
     "data": {
      "text/html": [
       "<span style=\"None\">Running query in &#x27;duckdb://&#x27;</span>"
      ],
      "text/plain": [
       "Running query in 'duckdb://'"
      ]
     },
     "metadata": {},
     "output_type": "display_data"
    }
   ],
   "source": [
    "%%sql sector_start_lag <<\n",
    "\n",
    "select \n",
    "    DealID,\n",
    "    StartEpoch,\n",
    "    SectorStartEpoch,\n",
    "    StartEpoch - SectorStartEpoch as SectorStartLag,\n",
    "from filecoin_state_market_deals\n",
    "where SectorStartEpoch > 0"
   ]
  },
  {
   "cell_type": "code",
   "execution_count": 12,
   "metadata": {},
   "outputs": [],
   "source": [
    "sector_start_lag = sector_start_lag.DataFrame()\n"
   ]
  },
  {
   "cell_type": "code",
   "execution_count": 15,
   "metadata": {},
   "outputs": [
    {
     "data": {
      "text/plain": [
       "count    3.654148e+07\n",
       "mean     1.565833e+04\n",
       "std      8.315649e+03\n",
       "min      0.000000e+00\n",
       "25%      1.259100e+04\n",
       "50%      1.364800e+04\n",
       "75%      1.800800e+04\n",
       "max      2.580400e+05\n",
       "Name: SectorStartLag, dtype: float64"
      ]
     },
     "execution_count": 15,
     "metadata": {},
     "output_type": "execute_result"
    },
    {
     "data": {
      "image/png": "[encoded data removed]",
      "text/plain": [
       "<Figure size 640x480 with 1 Axes>"
      ]
     },
     "metadata": {},
     "output_type": "display_data"
    }
   ],
   "source": [
    "_ = sector_start_lag[\"SectorStartLag\"].plot.hist(bins=100, xlim=(0, 50000))\n",
    "sector_start_lag[\"SectorStartLag\"].describe()\n"
   ]
  },
  {
   "cell_type": "code",
   "execution_count": 16,
   "metadata": {},
   "outputs": [
    {
     "data": {
      "text/html": [
       "<span style=\"None\">Running query in &#x27;duckdb:////tmp/local.duckdb&#x27;</span>"
      ],
      "text/plain": [
       "Running query in 'duckdb:////tmp/local.duckdb'"
      ]
     },
     "metadata": {},
     "output_type": "display_data"
    },
    {
     "data": {
      "application/vnd.jupyter.widget-view+json": {
       "model_id": "54b2010232f24abb8d4671e962d2e864",
       "version_major": 2,
       "version_minor": 0
      },
      "text/plain": [
       "FloatProgress(value=0.0, layout=Layout(width='auto'), style=ProgressStyle(bar_color='black'))"
      ]
     },
     "metadata": {},
     "output_type": "display_data"
    },
    {
     "data": {
      "text/html": [
       "<table>\n",
       "    <thead>\n",
       "        <tr>\n",
       "            <th>piece_id</th>\n",
       "            <th>copies</th>\n",
       "        </tr>\n",
       "    </thead>\n",
       "    <tbody>\n",
       "        <tr>\n",
       "            <td>baga6ea4seaqbzgxi433tmkczbt3tjxuowtgui6hafo67o6m7buipfgt57m6k2na</td>\n",
       "            <td>19</td>\n",
       "        </tr>\n",
       "        <tr>\n",
       "            <td>baga6ea4seaqiybgaka5svssl52fgr3bmd4q7avateggi3vmqvyqier7mk4dfoka</td>\n",
       "            <td>19</td>\n",
       "        </tr>\n",
       "        <tr>\n",
       "            <td>baga6ea4seaqi57bpicf74ex6owzv35qympyiivsqc4hcdwa6kggtyalxnmdgkjy</td>\n",
       "            <td>19</td>\n",
       "        </tr>\n",
       "        <tr>\n",
       "            <td>baga6ea4seaqdw6vpp25o4dqfwksbmar2nbqszarvimtsbrt5ouim26su3o7bkhq</td>\n",
       "            <td>19</td>\n",
       "        </tr>\n",
       "        <tr>\n",
       "            <td>baga6ea4seaqfukeem5on3tcyunu6b5x7quaoxjrjtvty37tuhkek5nsrtebm2mi</td>\n",
       "            <td>19</td>\n",
       "        </tr>\n",
       "        <tr>\n",
       "            <td>baga6ea4seaqn5kiciwnjvtmm7w3gzldl6ywou3f7jks2fddye3gtozq5do6h2ni</td>\n",
       "            <td>19</td>\n",
       "        </tr>\n",
       "        <tr>\n",
       "            <td>baga6ea4seaqgwkt2pxqokbehxer73cnr25tstzjrrdiudtxu2wg2m6jj3yhi2fa</td>\n",
       "            <td>19</td>\n",
       "        </tr>\n",
       "        <tr>\n",
       "            <td>baga6ea4seaqfzrnztqwgjyu46hssvn3m7x6cqnvtsojmgcaohsc7fpzsxoc6kby</td>\n",
       "            <td>19</td>\n",
       "        </tr>\n",
       "        <tr>\n",
       "            <td>baga6ea4seaqfxgt5bhswek7ndiqzyikmv2b4ktom5tc6xgfjtr2isl7c773v2cq</td>\n",
       "            <td>19</td>\n",
       "        </tr>\n",
       "        <tr>\n",
       "            <td>baga6ea4seaqpmk5qeyh2rdiujco6knh4222ajxiry3oxpwwess2ade5klbhwqeq</td>\n",
       "            <td>19</td>\n",
       "        </tr>\n",
       "    </tbody>\n",
       "</table>\n",
       "<span style=\"font-style:italic;text-align:center;\">11754796 rows, truncated to displaylimit of 10</span><br><span style=\"font-style:italic;text-align:center;\">If you want to see more, please visit <a href=\"https://jupysql.ploomber.io/en/latest/api/configuration.html#displaylimit\">displaylimit</a> configuration</span>"
      ],
      "text/plain": [
       "+------------------------------------------------------------------+--------+\n",
       "|                             piece_id                             | copies |\n",
       "+------------------------------------------------------------------+--------+\n",
       "| baga6ea4seaqbzgxi433tmkczbt3tjxuowtgui6hafo67o6m7buipfgt57m6k2na |   19   |\n",
       "| baga6ea4seaqiybgaka5svssl52fgr3bmd4q7avateggi3vmqvyqier7mk4dfoka |   19   |\n",
       "| baga6ea4seaqi57bpicf74ex6owzv35qympyiivsqc4hcdwa6kggtyalxnmdgkjy |   19   |\n",
       "| baga6ea4seaqdw6vpp25o4dqfwksbmar2nbqszarvimtsbrt5ouim26su3o7bkhq |   19   |\n",
       "| baga6ea4seaqfukeem5on3tcyunu6b5x7quaoxjrjtvty37tuhkek5nsrtebm2mi |   19   |\n",
       "| baga6ea4seaqn5kiciwnjvtmm7w3gzldl6ywou3f7jks2fddye3gtozq5do6h2ni |   19   |\n",
       "| baga6ea4seaqgwkt2pxqokbehxer73cnr25tstzjrrdiudtxu2wg2m6jj3yhi2fa |   19   |\n",
       "| baga6ea4seaqfzrnztqwgjyu46hssvn3m7x6cqnvtsojmgcaohsc7fpzsxoc6kby |   19   |\n",
       "| baga6ea4seaqfxgt5bhswek7ndiqzyikmv2b4ktom5tc6xgfjtr2isl7c773v2cq |   19   |\n",
       "| baga6ea4seaqpmk5qeyh2rdiujco6knh4222ajxiry3oxpwwess2ade5klbhwqeq |   19   |\n",
       "+------------------------------------------------------------------+--------+"
      ]
     },
     "execution_count": 16,
     "metadata": {},
     "output_type": "execute_result"
    }
   ],
   "source": [
    "%%sql\n",
    "\n",
    "select\n",
    "    PieceCID.\"/\" as piece_id,\n",
    "    count(*) as copies\n",
    "from state_market_deals\n",
    "where 1=1\n",
    "    and SectorStartEpoch != -1\n",
    "    and SlashEpoch = -1\n",
    "group by piece_id\n",
    "having copies < 20\n",
    "order by 2 desc"
   ]
  },
  {
   "cell_type": "code",
   "execution_count": 17,
   "metadata": {},
   "outputs": [
    {
     "data": {
      "text/html": [
       "<span style=\"None\">Running query in &#x27;duckdb:////tmp/local.duckdb&#x27;</span>"
      ],
      "text/plain": [
       "Running query in 'duckdb:////tmp/local.duckdb'"
      ]
     },
     "metadata": {},
     "output_type": "display_data"
    },
    {
     "data": {
      "application/vnd.jupyter.widget-view+json": {
       "model_id": "07b2cb154d834e07959a1e44ae44db0a",
       "version_major": 2,
       "version_minor": 0
      },
      "text/plain": [
       "FloatProgress(value=0.0, layout=Layout(width='auto'), style=ProgressStyle(bar_color='black'))"
      ]
     },
     "metadata": {},
     "output_type": "display_data"
    },
    {
     "data": {
      "text/html": [
       "<table>\n",
       "    <thead>\n",
       "        <tr>\n",
       "            <th>piece_id</th>\n",
       "            <th>copies</th>\n",
       "        </tr>\n",
       "    </thead>\n",
       "    <tbody>\n",
       "        <tr>\n",
       "            <td>baga6ea4seaqof356aeq4mvurh43yir2z6j3wguczeke4dy4lngbb7fwrmfpjydy</td>\n",
       "            <td>10420</td>\n",
       "        </tr>\n",
       "        <tr>\n",
       "            <td>baga6ea4seaqnvexhndom5ipydpn42c3va2jhuepv4bc7rwrc33t3x7gqkn53ugi</td>\n",
       "            <td>8640</td>\n",
       "        </tr>\n",
       "        <tr>\n",
       "            <td>baga6ea4seaqma3d2foqh3obhlxca2z4emobsarysx5pyrygroakuyxyd7sjzmby</td>\n",
       "            <td>6518</td>\n",
       "        </tr>\n",
       "        <tr>\n",
       "            <td>baga6ea4seaqfecaafawnex4i4z3dlpv5ngaxp5sa5spgf77mz3s3lvfidqom2da</td>\n",
       "            <td>636</td>\n",
       "        </tr>\n",
       "        <tr>\n",
       "            <td>baga6ea4seaqootvvm3rolzm7o4cdbshrgs4ceoe5rdwi6j6q52gmmkgtppwiogq</td>\n",
       "            <td>631</td>\n",
       "        </tr>\n",
       "    </tbody>\n",
       "</table>"
      ],
      "text/plain": [
       "+------------------------------------------------------------------+--------+\n",
       "|                             piece_id                             | copies |\n",
       "+------------------------------------------------------------------+--------+\n",
       "| baga6ea4seaqof356aeq4mvurh43yir2z6j3wguczeke4dy4lngbb7fwrmfpjydy | 10420  |\n",
       "| baga6ea4seaqnvexhndom5ipydpn42c3va2jhuepv4bc7rwrc33t3x7gqkn53ugi |  8640  |\n",
       "| baga6ea4seaqma3d2foqh3obhlxca2z4emobsarysx5pyrygroakuyxyd7sjzmby |  6518  |\n",
       "| baga6ea4seaqfecaafawnex4i4z3dlpv5ngaxp5sa5spgf77mz3s3lvfidqom2da |  636   |\n",
       "| baga6ea4seaqootvvm3rolzm7o4cdbshrgs4ceoe5rdwi6j6q52gmmkgtppwiogq |  631   |\n",
       "+------------------------------------------------------------------+--------+"
      ]
     },
     "execution_count": 17,
     "metadata": {},
     "output_type": "execute_result"
    }
   ],
   "source": [
    "%%sql\n",
    "\n",
    "select\n",
    "    PieceCID.\"/\" as piece_id,\n",
    "    count(*) as copies\n",
    "from state_market_deals\n",
    "where 1=1\n",
    "    and SectorStartEpoch != -1\n",
    "    and SlashEpoch = -1\n",
    "group by piece_id\n",
    "order by copies desc\n",
    "limit 5"
   ]
  },
  {
   "cell_type": "code",
   "execution_count": 19,
   "metadata": {},
   "outputs": [
    {
     "data": {
      "text/html": [
       "<span style=\"None\">Running query in &#x27;duckdb:////tmp/local.duckdb&#x27;</span>"
      ],
      "text/plain": [
       "Running query in 'duckdb:////tmp/local.duckdb'"
      ]
     },
     "metadata": {},
     "output_type": "display_data"
    },
    {
     "data": {
      "text/html": [
       "<table>\n",
       "    <thead>\n",
       "        <tr>\n",
       "            <th>Client</th>\n",
       "            <th>Provider</th>\n",
       "        </tr>\n",
       "    </thead>\n",
       "    <tbody>\n",
       "        <tr>\n",
       "            <td>f01624861</td>\n",
       "            <td>f01781851</td>\n",
       "        </tr>\n",
       "        <tr>\n",
       "            <td>f01624861</td>\n",
       "            <td>f01716466</td>\n",
       "        </tr>\n",
       "    </tbody>\n",
       "</table>"
      ],
      "text/plain": [
       "+-----------+-----------+\n",
       "|   Client  |  Provider |\n",
       "+-----------+-----------+\n",
       "| f01624861 | f01781851 |\n",
       "| f01624861 | f01716466 |\n",
       "+-----------+-----------+"
      ]
     },
     "execution_count": 19,
     "metadata": {},
     "output_type": "execute_result"
    }
   ],
   "source": [
    "%%sql\n",
    "\n",
    "select distinct\n",
    "    Client,\n",
    "    Provider,\n",
    "from state_market_deals\n",
    "where PieceCID.\"/\" = 'baga6ea4seaqof356aeq4mvurh43yir2z6j3wguczeke4dy4lngbb7fwrmfpjydy'"
   ]
  }
 ],
 "metadata": {
  "kernelspec": {
   "display_name": "Python 3",
   "language": "python",
   "name": "python3"
  },
  "language_info": {
   "codemirror_mode": {
    "name": "ipython",
    "version": 3
   },
   "file_extension": ".py",
   "mimetype": "text/x-python",
   "name": "python",
   "nbconvert_exporter": "python",
   "pygments_lexer": "ipython3",
   "version": "3.11.4"
  },
  "orig_nbformat": 4
 },
 "nbformat": 4,
 "nbformat_minor": 2
}
