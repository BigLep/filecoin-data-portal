{
 "cells": [
  {
   "cell_type": "raw",
   "metadata": {},
   "source": [
    "---\n",
    "title: \"Exploring Filecoin Deals\"\n",
    "author: \"David Gasquez\"\n",
    "date: 2023-05-15\n",
    "format: \n",
    "    html:\n",
    "        toc: true\n",
    "        echo: false\n",
    "---"
   ]
  },
  {
   "attachments": {},
   "cell_type": "markdown",
   "metadata": {},
   "source": [
    "Storage deals are core to Filecoin. They are the [main mechanism by which clients and storage providers interact](https://filecoin.io/blog/posts/how-storage-and-retrieval-deals-work-on-filecoin/). \n",
    "\n",
    "Let's explore the data!"
   ]
  },
  {
   "attachments": {},
   "cell_type": "markdown",
   "metadata": {},
   "source": [
    "## Data Sources\n",
    "\n",
    "Deals data is available from the on-chain state (via the [`StateMarketDeals`](https://lotus.filecoin.io/reference/lotus/state/#statemarketdeals) JSON-RPC method). The state doesn't reflect the historical deals, but should be enough to get a sense of things.\n",
    "\n",
    "Alternatively you can use an [oracle like `fil-naive-marketwatch`](https://github.com/ribasushi/fil-naive-marketwatch), rely on APIs like [Spacescope](https://spacescope.io/) for aggregated data or reconstruct the deals from [Lily](https://lilium.sh/) CSV dumps, which can provide all deals in Filecoin history.\n",
    "\n",
    "I'll rely on [Glif nodes](https://lotus.filecoin.io/lotus/developers/glif-nodes/) export of `StateMarketDeals` on S3 ([direct link](https://marketdeals.s3.amazonaws.com/StateMarketDeals.json.zst)). "
   ]
  },
  {
   "cell_type": "code",
   "execution_count": 1,
   "metadata": {},
   "outputs": [],
   "source": [
    "%load_ext sql\n",
    "%config SqlMagic.displaycon = False\n",
    "%sql --connection_arguments '{\"read_only\": true}'"
   ]
  },
  {
   "attachments": {},
   "cell_type": "markdown",
   "metadata": {},
   "source": [
    "## Market Deals State "
   ]
  },
  {
   "cell_type": "code",
   "execution_count": 2,
   "metadata": {},
   "outputs": [],
   "source": [
    "%%sql total_pibs_in_active_deals <<\n",
    "\n",
    "select \n",
    "    sum(PieceSize) / 1024 ** 5 as total_pibs_in_active_deals,\n",
    "from filecoin_state_market_deals\n",
    "where SectorStartEpoch > 0 and SlashEpoch = -1"
   ]
  },
  {
   "cell_type": "code",
   "execution_count": 3,
   "metadata": {},
   "outputs": [
    {
     "data": {
      "text/markdown": [
       "\n",
       "There are **1134.41 PIBs** in active deals.\n"
      ],
      "text/plain": [
       "<IPython.core.display.Markdown object>"
      ]
     },
     "execution_count": 3,
     "metadata": {},
     "output_type": "execute_result"
    }
   ],
   "source": [
    "from IPython.display import Markdown\n",
    "\n",
    "\n",
    "Markdown(\n",
    "    f\"\"\"\n",
    "There are **{total_pibs_in_active_deals.DataFrame().values[0][0]:.2f} PIBs** in active deals.\n",
    "\"\"\"\n",
    ")\n"
   ]
  },
  {
   "cell_type": "code",
   "execution_count": 3,
   "metadata": {},
   "outputs": [],
   "source": [
    "%%sql sector_start_lag <<\n",
    "\n",
    "select \n",
    "    DealID,\n",
    "    StartEpoch,\n",
    "    SectorStartEpoch,\n",
    "    StartEpoch - SectorStartEpoch as SectorStartLag,\n",
    "from filecoin_state_market_deals\n",
    "where SectorStartEpoch > 0"
   ]
  },
  {
   "cell_type": "code",
   "execution_count": 4,
   "metadata": {},
   "outputs": [],
   "source": [
    "sector_start_lag = sector_start_lag.DataFrame()\n"
   ]
  },
  {
   "attachments": {},
   "cell_type": "markdown",
   "metadata": {},
   "source": [
    "There is a natural lag between the time a deal is scheduled and the time it actually starts."
   ]
  },
  {
   "cell_type": "code",
   "execution_count": 11,
   "metadata": {},
   "outputs": [
    {
     "data": {
      "image/png": "[encoded data removed]",
      "text/plain": [
       "<Figure size 640x480 with 1 Axes>"
      ]
     },
     "metadata": {},
     "output_type": "display_data"
    }
   ],
   "source": [
    "_ = sector_start_lag[\"SectorStartLag\"].plot.hist(bins=100, xlim=(0, 50000))\n"
   ]
  },
  {
   "attachments": {},
   "cell_type": "markdown",
   "metadata": {},
   "source": [
    "## Replication Factor\n",
    "\n",
    "Some pieces have multiple copies. These are the most copied pieces:"
   ]
  },
  {
   "cell_type": "code",
   "execution_count": 26,
   "metadata": {},
   "outputs": [
    {
     "data": {
      "text/html": [
       "<table>\n",
       "    <thead>\n",
       "        <tr>\n",
       "            <th>piece_id</th>\n",
       "            <th>copies</th>\n",
       "        </tr>\n",
       "    </thead>\n",
       "    <tbody>\n",
       "        <tr>\n",
       "            <td>baga6ea4seaqof356aeq4mvurh43yir2z6j3wguczeke4dy4lngbb7fwrmfpjydy</td>\n",
       "            <td>10420</td>\n",
       "        </tr>\n",
       "        <tr>\n",
       "            <td>baga6ea4seaqnvexhndom5ipydpn42c3va2jhuepv4bc7rwrc33t3x7gqkn53ugi</td>\n",
       "            <td>8640</td>\n",
       "        </tr>\n",
       "        <tr>\n",
       "            <td>baga6ea4seaqma3d2foqh3obhlxca2z4emobsarysx5pyrygroakuyxyd7sjzmby</td>\n",
       "            <td>6518</td>\n",
       "        </tr>\n",
       "        <tr>\n",
       "            <td>baga6ea4seaqfecaafawnex4i4z3dlpv5ngaxp5sa5spgf77mz3s3lvfidqom2da</td>\n",
       "            <td>636</td>\n",
       "        </tr>\n",
       "        <tr>\n",
       "            <td>baga6ea4seaqootvvm3rolzm7o4cdbshrgs4ceoe5rdwi6j6q52gmmkgtppwiogq</td>\n",
       "            <td>631</td>\n",
       "        </tr>\n",
       "        <tr>\n",
       "            <td>baga6ea4seaqpc6o5flzyg2ujmzdoydpjzkctembxk6mrfa6td3dzfcptbed4qkq</td>\n",
       "            <td>618</td>\n",
       "        </tr>\n",
       "        <tr>\n",
       "            <td>baga6ea4seaqmjgc2dhqsggctzwx5i2msscsdc5v27lva2tvanmd4j2pq27n2yaq</td>\n",
       "            <td>606</td>\n",
       "        </tr>\n",
       "        <tr>\n",
       "            <td>baga6ea4seaqdpednuhl5eukv7ym7lnxg66k3qzf5tf33h5uovhrkvwmlrpg24fa</td>\n",
       "            <td>596</td>\n",
       "        </tr>\n",
       "        <tr>\n",
       "            <td>baga6ea4seaqgshsnocaigqcar5frhf4f5xfvprumbzjjci2xofktnef6utiuyoa</td>\n",
       "            <td>595</td>\n",
       "        </tr>\n",
       "        <tr>\n",
       "            <td>baga6ea4seaqdorw3mefmpaabi7tx7rxu7qxmqdxkpeyyqg3myiq72pwfk6qzedq</td>\n",
       "            <td>594</td>\n",
       "        </tr>\n",
       "    </tbody>\n",
       "</table>"
      ],
      "text/plain": [
       "+------------------------------------------------------------------+--------+\n",
       "|                             piece_id                             | copies |\n",
       "+------------------------------------------------------------------+--------+\n",
       "| baga6ea4seaqof356aeq4mvurh43yir2z6j3wguczeke4dy4lngbb7fwrmfpjydy | 10420  |\n",
       "| baga6ea4seaqnvexhndom5ipydpn42c3va2jhuepv4bc7rwrc33t3x7gqkn53ugi |  8640  |\n",
       "| baga6ea4seaqma3d2foqh3obhlxca2z4emobsarysx5pyrygroakuyxyd7sjzmby |  6518  |\n",
       "| baga6ea4seaqfecaafawnex4i4z3dlpv5ngaxp5sa5spgf77mz3s3lvfidqom2da |  636   |\n",
       "| baga6ea4seaqootvvm3rolzm7o4cdbshrgs4ceoe5rdwi6j6q52gmmkgtppwiogq |  631   |\n",
       "| baga6ea4seaqpc6o5flzyg2ujmzdoydpjzkctembxk6mrfa6td3dzfcptbed4qkq |  618   |\n",
       "| baga6ea4seaqmjgc2dhqsggctzwx5i2msscsdc5v27lva2tvanmd4j2pq27n2yaq |  606   |\n",
       "| baga6ea4seaqdpednuhl5eukv7ym7lnxg66k3qzf5tf33h5uovhrkvwmlrpg24fa |  596   |\n",
       "| baga6ea4seaqgshsnocaigqcar5frhf4f5xfvprumbzjjci2xofktnef6utiuyoa |  595   |\n",
       "| baga6ea4seaqdorw3mefmpaabi7tx7rxu7qxmqdxkpeyyqg3myiq72pwfk6qzedq |  594   |\n",
       "+------------------------------------------------------------------+--------+"
      ]
     },
     "execution_count": 26,
     "metadata": {},
     "output_type": "execute_result"
    }
   ],
   "source": [
    "%%sql\n",
    "\n",
    "select\n",
    "    PieceCID.\"/\" as piece_id,\n",
    "    count(*) as copies\n",
    "from filecoin_state_market_deals\n",
    "where 1=1\n",
    "    and SectorStartEpoch != -1\n",
    "    and SlashEpoch = -1\n",
    "group by piece_id\n",
    "order by copies desc\n",
    "limit 10"
   ]
  },
  {
   "attachments": {},
   "cell_type": "markdown",
   "metadata": {},
   "source": [
    "Some of these pieces have more than 10k copies... Which providers are storing them?"
   ]
  },
  {
   "cell_type": "code",
   "execution_count": 10,
   "metadata": {},
   "outputs": [
    {
     "data": {
      "text/html": [
       "<table>\n",
       "    <thead>\n",
       "        <tr>\n",
       "            <th>Client</th>\n",
       "            <th>Provider</th>\n",
       "        </tr>\n",
       "    </thead>\n",
       "    <tbody>\n",
       "        <tr>\n",
       "            <td>f01624861</td>\n",
       "            <td>f01781851</td>\n",
       "        </tr>\n",
       "        <tr>\n",
       "            <td>f01624861</td>\n",
       "            <td>f01716466</td>\n",
       "        </tr>\n",
       "    </tbody>\n",
       "</table>"
      ],
      "text/plain": [
       "+-----------+-----------+\n",
       "|   Client  |  Provider |\n",
       "+-----------+-----------+\n",
       "| f01624861 | f01781851 |\n",
       "| f01624861 | f01716466 |\n",
       "+-----------+-----------+"
      ]
     },
     "execution_count": 10,
     "metadata": {},
     "output_type": "execute_result"
    }
   ],
   "source": [
    "%%sql\n",
    "\n",
    "select distinct\n",
    "    Client,\n",
    "    Provider,\n",
    "from filecoin_state_market_deals\n",
    "where PieceCID.\"/\" = 'baga6ea4seaqof356aeq4mvurh43yir2z6j3wguczeke4dy4lngbb7fwrmfpjydy'"
   ]
  }
 ],
 "metadata": {
  "kernelspec": {
   "display_name": "Python 3",
   "language": "python",
   "name": "python3"
  },
  "language_info": {
   "codemirror_mode": {
    "name": "ipython",
    "version": 3
   },
   "file_extension": ".py",
   "mimetype": "text/x-python",
   "name": "python",
   "nbconvert_exporter": "python",
   "pygments_lexer": "ipython3",
   "version": "3.11.4"
  },
  "orig_nbformat": 4
 },
 "nbformat": 4,
 "nbformat_minor": 2
}
