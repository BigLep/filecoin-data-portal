{
 "cells": [
  {
   "cell_type": "raw",
   "metadata": {},
   "source": [
    "---\n",
    "title: \"Miner Sector Information\"\n",
    "author: \"David Gasquez\"\n",
    "date: 2023-12-12\n",
    "draft: true\n",
    "format:\n",
    "  html:\n",
    "    toc: true\n",
    "---"
   ]
  },
  {
   "cell_type": "code",
   "execution_count": 1,
   "metadata": {},
   "outputs": [],
   "source": [
    "import requests\n",
    "import pandas as pd"
   ]
  },
  {
   "cell_type": "code",
   "execution_count": 2,
   "metadata": {},
   "outputs": [],
   "source": [
    "ENDPOINT_URL = \"https://api.node.glif.io\""
   ]
  },
  {
   "cell_type": "code",
   "execution_count": 3,
   "metadata": {},
   "outputs": [],
   "source": [
    "def filecoin_rpc(method: str, params):\n",
    "    \"\"\"\n",
    "    Call a Filecoin JSON-RPC method with the given parameters.\n",
    "    \"\"\"\n",
    "    payload = {\n",
    "        \"jsonrpc\": \"2.0\",\n",
    "        \"method\": method,\n",
    "        \"params\": params,\n",
    "        \"id\": 1,\n",
    "    }\n",
    "    response = requests.post(ENDPOINT_URL, json=payload).json()\n",
    "    if \"error\" in response:\n",
    "        raise Exception(response[\"error\"])\n",
    "    return response[\"result\"]"
   ]
  },
  {
   "cell_type": "code",
   "execution_count": 4,
   "metadata": {},
   "outputs": [
    {
     "name": "stdout",
     "output_type": "stream",
     "text": [
      "Latest epoch is 3472632\n"
     ]
    }
   ],
   "source": [
    "chain_head = filecoin_rpc(\"Filecoin.ChainHead\", [])\n",
    "latest_tipset = filecoin_rpc(\n",
    "    \"Filecoin.ChainGetTipSetByHeight\", [chain_head[\"Height\"], None]\n",
    ")\n",
    "print(f\"Latest epoch is {latest_tipset['Height']}\")"
   ]
  },
  {
   "cell_type": "code",
   "execution_count": 5,
   "metadata": {},
   "outputs": [
    {
     "name": "stdout",
     "output_type": "stream",
     "text": [
      "Total number of miners is 612905\n"
     ]
    }
   ],
   "source": [
    "state_miners = filecoin_rpc(\"Filecoin.StateListMiners\", [chain_head[\"Cids\"]])\n",
    "print(f\"Total number of miners is {len(state_miners)}\")"
   ]
  },
  {
   "cell_type": "code",
   "execution_count": 6,
   "metadata": {},
   "outputs": [
    {
     "data": {
      "text/html": [
       "<div>\n",
       "<style scoped>\n",
       "    .dataframe tbody tr th:only-of-type {\n",
       "        vertical-align: middle;\n",
       "    }\n",
       "\n",
       "    .dataframe tbody tr th {\n",
       "        vertical-align: top;\n",
       "    }\n",
       "\n",
       "    .dataframe thead th {\n",
       "        text-align: right;\n",
       "    }\n",
       "</style>\n",
       "<table border=\"1\" class=\"dataframe\">\n",
       "  <thead>\n",
       "    <tr style=\"text-align: right;\">\n",
       "      <th></th>\n",
       "      <th>SectorNumber</th>\n",
       "      <th>SealProof</th>\n",
       "      <th>SealedCID</th>\n",
       "      <th>DealIDs</th>\n",
       "      <th>Activation</th>\n",
       "      <th>Expiration</th>\n",
       "      <th>DealWeight</th>\n",
       "      <th>VerifiedDealWeight</th>\n",
       "      <th>InitialPledge</th>\n",
       "      <th>ExpectedDayReward</th>\n",
       "      <th>ExpectedStoragePledge</th>\n",
       "      <th>ReplacedSectorAge</th>\n",
       "      <th>ReplacedDayReward</th>\n",
       "      <th>SectorKeyCID</th>\n",
       "      <th>SimpleQAPower</th>\n",
       "    </tr>\n",
       "  </thead>\n",
       "  <tbody>\n",
       "    <tr>\n",
       "      <th>60110</th>\n",
       "      <td>901448</td>\n",
       "      <td>8</td>\n",
       "      <td>{'/': 'bagboea4b5abcaimztuk5b4zfk647ym2xxzjri2...</td>\n",
       "      <td>None</td>\n",
       "      <td>1375386</td>\n",
       "      <td>3159720</td>\n",
       "      <td>0</td>\n",
       "      <td>0</td>\n",
       "      <td>147891627031854455</td>\n",
       "      <td>691015329331277</td>\n",
       "      <td>13593616660539049</td>\n",
       "      <td>0</td>\n",
       "      <td>0</td>\n",
       "      <td>None</td>\n",
       "      <td>False</td>\n",
       "    </tr>\n",
       "    <tr>\n",
       "      <th>51471</th>\n",
       "      <td>706607</td>\n",
       "      <td>8</td>\n",
       "      <td>{'/': 'bagboea4b5abcb4w3fcyj27skfregixatne5xrh...</td>\n",
       "      <td>None</td>\n",
       "      <td>1397924</td>\n",
       "      <td>3182867</td>\n",
       "      <td>0</td>\n",
       "      <td>0</td>\n",
       "      <td>148949142844069778</td>\n",
       "      <td>681659617724107</td>\n",
       "      <td>13531686513627846</td>\n",
       "      <td>0</td>\n",
       "      <td>0</td>\n",
       "      <td>None</td>\n",
       "      <td>False</td>\n",
       "    </tr>\n",
       "    <tr>\n",
       "      <th>77737</th>\n",
       "      <td>1101579</td>\n",
       "      <td>8</td>\n",
       "      <td>{'/': 'bagboea4b5abcarxa5j2gscomovfd474qpwndjc...</td>\n",
       "      <td>None</td>\n",
       "      <td>1620605</td>\n",
       "      <td>3342960</td>\n",
       "      <td>0</td>\n",
       "      <td>0</td>\n",
       "      <td>158764913569939844</td>\n",
       "      <td>594574059570375</td>\n",
       "      <td>11739598187102572</td>\n",
       "      <td>0</td>\n",
       "      <td>0</td>\n",
       "      <td>None</td>\n",
       "      <td>False</td>\n",
       "    </tr>\n",
       "    <tr>\n",
       "      <th>26698</th>\n",
       "      <td>400946</td>\n",
       "      <td>8</td>\n",
       "      <td>{'/': 'bagboea4b5abcaaeefztz7gxpeu2usmdevgzmwt...</td>\n",
       "      <td>None</td>\n",
       "      <td>1375623</td>\n",
       "      <td>3159720</td>\n",
       "      <td>0</td>\n",
       "      <td>0</td>\n",
       "      <td>147889104216986747</td>\n",
       "      <td>690870682561322</td>\n",
       "      <td>13585881471918062</td>\n",
       "      <td>0</td>\n",
       "      <td>0</td>\n",
       "      <td>None</td>\n",
       "      <td>False</td>\n",
       "    </tr>\n",
       "    <tr>\n",
       "      <th>114117</th>\n",
       "      <td>5015641</td>\n",
       "      <td>8</td>\n",
       "      <td>{'/': 'bagboea4b5abcac42e44cb37smjm7wq4fcbn6wi...</td>\n",
       "      <td>[55633165]</td>\n",
       "      <td>3236503</td>\n",
       "      <td>4324334</td>\n",
       "      <td>0</td>\n",
       "      <td>37377588548599808</td>\n",
       "      <td>1899995191011097709</td>\n",
       "      <td>2146490162356217</td>\n",
       "      <td>42027255114188709</td>\n",
       "      <td>0</td>\n",
       "      <td>0</td>\n",
       "      <td>None</td>\n",
       "      <td>False</td>\n",
       "    </tr>\n",
       "  </tbody>\n",
       "</table>\n",
       "</div>"
      ],
      "text/plain": [
       "        SectorNumber  SealProof  \\\n",
       "60110         901448          8   \n",
       "51471         706607          8   \n",
       "77737        1101579          8   \n",
       "26698         400946          8   \n",
       "114117       5015641          8   \n",
       "\n",
       "                                                SealedCID     DealIDs  \\\n",
       "60110   {'/': 'bagboea4b5abcaimztuk5b4zfk647ym2xxzjri2...        None   \n",
       "51471   {'/': 'bagboea4b5abcb4w3fcyj27skfregixatne5xrh...        None   \n",
       "77737   {'/': 'bagboea4b5abcarxa5j2gscomovfd474qpwndjc...        None   \n",
       "26698   {'/': 'bagboea4b5abcaaeefztz7gxpeu2usmdevgzmwt...        None   \n",
       "114117  {'/': 'bagboea4b5abcac42e44cb37smjm7wq4fcbn6wi...  [55633165]   \n",
       "\n",
       "        Activation  Expiration DealWeight VerifiedDealWeight  \\\n",
       "60110      1375386     3159720          0                  0   \n",
       "51471      1397924     3182867          0                  0   \n",
       "77737      1620605     3342960          0                  0   \n",
       "26698      1375623     3159720          0                  0   \n",
       "114117     3236503     4324334          0  37377588548599808   \n",
       "\n",
       "              InitialPledge ExpectedDayReward ExpectedStoragePledge  \\\n",
       "60110    147891627031854455   691015329331277     13593616660539049   \n",
       "51471    148949142844069778   681659617724107     13531686513627846   \n",
       "77737    158764913569939844   594574059570375     11739598187102572   \n",
       "26698    147889104216986747   690870682561322     13585881471918062   \n",
       "114117  1899995191011097709  2146490162356217     42027255114188709   \n",
       "\n",
       "        ReplacedSectorAge ReplacedDayReward SectorKeyCID  SimpleQAPower  \n",
       "60110                   0                 0         None          False  \n",
       "51471                   0                 0         None          False  \n",
       "77737                   0                 0         None          False  \n",
       "26698                   0                 0         None          False  \n",
       "114117                  0                 0         None          False  "
      ]
     },
     "execution_count": 6,
     "metadata": {},
     "output_type": "execute_result"
    }
   ],
   "source": [
    "StateMinerSectors = pd.DataFrame(\n",
    "    filecoin_rpc(\"Filecoin.StateMinerSectors\", [\"f01114587\", None, chain_head[\"Cids\"]])\n",
    ")\n",
    "StateMinerSectors.sample(5)"
   ]
  },
  {
   "cell_type": "code",
   "execution_count": 19,
   "metadata": {},
   "outputs": [
    {
     "data": {
      "text/html": [
       "<div>\n",
       "<style scoped>\n",
       "    .dataframe tbody tr th:only-of-type {\n",
       "        vertical-align: middle;\n",
       "    }\n",
       "\n",
       "    .dataframe tbody tr th {\n",
       "        vertical-align: top;\n",
       "    }\n",
       "\n",
       "    .dataframe thead th {\n",
       "        text-align: right;\n",
       "    }\n",
       "</style>\n",
       "<table border=\"1\" class=\"dataframe\">\n",
       "  <thead>\n",
       "    <tr style=\"text-align: right;\">\n",
       "      <th></th>\n",
       "      <th>AllSectors</th>\n",
       "      <th>FaultySectors</th>\n",
       "      <th>RecoveringSectors</th>\n",
       "      <th>LiveSectors</th>\n",
       "      <th>ActiveSectors</th>\n",
       "    </tr>\n",
       "  </thead>\n",
       "  <tbody>\n",
       "    <tr>\n",
       "      <th>0</th>\n",
       "      <td>[3, 8, 1, 3, 1, 7, 1, 5, 1, 11, 2, 2, 1, 3, 1,...</td>\n",
       "      <td>[0]</td>\n",
       "      <td>[0]</td>\n",
       "      <td>[0]</td>\n",
       "      <td>[0]</td>\n",
       "    </tr>\n",
       "    <tr>\n",
       "      <th>1</th>\n",
       "      <td>[5014864, 3, 1, 28, 1, 2, 723, 2, 2, 2, 1, 24,...</td>\n",
       "      <td>[0]</td>\n",
       "      <td>[0]</td>\n",
       "      <td>[5014864, 3, 1, 28, 1, 2, 723, 2, 2, 2, 1, 24,...</td>\n",
       "      <td>[5014864, 3, 1, 28, 1, 2, 723, 2, 2, 2, 1, 24,...</td>\n",
       "    </tr>\n",
       "  </tbody>\n",
       "</table>\n",
       "</div>"
      ],
      "text/plain": [
       "                                          AllSectors FaultySectors  \\\n",
       "0  [3, 8, 1, 3, 1, 7, 1, 5, 1, 11, 2, 2, 1, 3, 1,...           [0]   \n",
       "1  [5014864, 3, 1, 28, 1, 2, 723, 2, 2, 2, 1, 24,...           [0]   \n",
       "\n",
       "  RecoveringSectors                                        LiveSectors  \\\n",
       "0               [0]                                                [0]   \n",
       "1               [0]  [5014864, 3, 1, 28, 1, 2, 723, 2, 2, 2, 1, 24,...   \n",
       "\n",
       "                                       ActiveSectors  \n",
       "0                                                [0]  \n",
       "1  [5014864, 3, 1, 28, 1, 2, 723, 2, 2, 2, 1, 24,...  "
      ]
     },
     "execution_count": 19,
     "metadata": {},
     "output_type": "execute_result"
    }
   ],
   "source": [
    "StateMinerPartitions = pd.DataFrame(\n",
    "    filecoin_rpc(\n",
    "        \"Filecoin.StateMinerPartitions\", [\"f01114587\", None, chain_head[\"Cids\"]]\n",
    "    )\n",
    ")\n",
    "StateMinerPartitions"
   ]
  },
  {
   "cell_type": "code",
   "execution_count": 7,
   "metadata": {},
   "outputs": [
    {
     "data": {
      "text/html": [
       "<div>\n",
       "<style scoped>\n",
       "    .dataframe tbody tr th:only-of-type {\n",
       "        vertical-align: middle;\n",
       "    }\n",
       "\n",
       "    .dataframe tbody tr th {\n",
       "        vertical-align: top;\n",
       "    }\n",
       "\n",
       "    .dataframe thead th {\n",
       "        text-align: right;\n",
       "    }\n",
       "</style>\n",
       "<table border=\"1\" class=\"dataframe\">\n",
       "  <thead>\n",
       "    <tr style=\"text-align: right;\">\n",
       "      <th></th>\n",
       "      <th>MinerPower</th>\n",
       "      <th>TotalPower</th>\n",
       "      <th>HasMinPower</th>\n",
       "    </tr>\n",
       "  </thead>\n",
       "  <tbody>\n",
       "    <tr>\n",
       "      <th>RawBytePower</th>\n",
       "      <td>3141407799771136</td>\n",
       "      <td>10149576889514065920</td>\n",
       "      <td>True</td>\n",
       "    </tr>\n",
       "    <tr>\n",
       "      <th>QualityAdjPower</th>\n",
       "      <td>31355404038176768</td>\n",
       "      <td>28283031234541748224</td>\n",
       "      <td>True</td>\n",
       "    </tr>\n",
       "  </tbody>\n",
       "</table>\n",
       "</div>"
      ],
      "text/plain": [
       "                        MinerPower            TotalPower  HasMinPower\n",
       "RawBytePower      3141407799771136  10149576889514065920         True\n",
       "QualityAdjPower  31355404038176768  28283031234541748224         True"
      ]
     },
     "execution_count": 7,
     "metadata": {},
     "output_type": "execute_result"
    }
   ],
   "source": [
    "StateMinerPower = pd.DataFrame(\n",
    "    filecoin_rpc(\"Filecoin.StateMinerPower\", [\"f01114587\", chain_head[\"Cids\"]])\n",
    ")\n",
    "StateMinerPower"
   ]
  },
  {
   "cell_type": "code",
   "execution_count": 15,
   "metadata": {},
   "outputs": [
    {
     "name": "stdout",
     "output_type": "stream",
     "text": [
      "\n",
      "\u001b[1m[\u001b[0m\u001b[34;49mnotice\u001b[0m\u001b[1;39;49m]\u001b[0m\u001b[39;49m A new release of pip is available: \u001b[0m\u001b[31;49m23.2.1\u001b[0m\u001b[39;49m -> \u001b[0m\u001b[32;49m23.3.1\u001b[0m\n",
      "\u001b[1m[\u001b[0m\u001b[34;49mnotice\u001b[0m\u001b[1;39;49m]\u001b[0m\u001b[39;49m To update, run: \u001b[0m\u001b[32;49mpip install --upgrade pip\u001b[0m\n",
      "Note: you may need to restart the kernel to use updated packages.\n"
     ]
    }
   ],
   "source": [
    "%pip install httpx --quiet"
   ]
  },
  {
   "cell_type": "code",
   "execution_count": 17,
   "metadata": {},
   "outputs": [
    {
     "data": {
      "text/plain": [
       "{'args': {},\n",
       " 'headers': {'Accept': '*/*',\n",
       "  'Accept-Encoding': 'gzip, deflate',\n",
       "  'Host': 'httpbin.org',\n",
       "  'User-Agent': 'python-httpx/0.25.2',\n",
       "  'X-Amzn-Trace-Id': 'Root=1-6579df8c-529f6562083d9b6c62d1b021'},\n",
       " 'origin': '83.60.226.183',\n",
       " 'url': 'https://httpbin.org/get'}"
      ]
     },
     "execution_count": 17,
     "metadata": {},
     "output_type": "execute_result"
    }
   ],
   "source": [
    "import httpx\n",
    "\n",
    "r = httpx.get(\"https://httpbin.org/get\")\n",
    "r.json()"
   ]
  }
 ],
 "metadata": {
  "kernelspec": {
   "display_name": "Python 3",
   "language": "python",
   "name": "python3"
  },
  "language_info": {
   "codemirror_mode": {
    "name": "ipython",
    "version": 3
   },
   "file_extension": ".py",
   "mimetype": "text/x-python",
   "name": "python",
   "nbconvert_exporter": "python",
   "pygments_lexer": "ipython3",
   "version": "3.11.7"
  }
 },
 "nbformat": 4,
 "nbformat_minor": 2
}
