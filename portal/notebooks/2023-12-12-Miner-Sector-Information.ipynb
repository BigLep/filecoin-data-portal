{
 "cells": [
  {
   "cell_type": "raw",
   "metadata": {},
   "source": [
    "---\n",
    "title: \"Miner Sector Information\"\n",
    "author: \"David Gasquez\"\n",
    "date: 2023-12-12\n",
    "draft: true\n",
    "format:\n",
    "  html:\n",
    "    toc: true\n",
    "---"
   ]
  },
  {
   "cell_type": "code",
   "execution_count": 1,
   "metadata": {},
   "outputs": [],
   "source": [
    "import requests\n",
    "import pandas as pd"
   ]
  },
  {
   "cell_type": "code",
   "execution_count": 2,
   "metadata": {},
   "outputs": [],
   "source": [
    "ENDPOINT_URL = \"https://api.node.glif.io\""
   ]
  },
  {
   "cell_type": "code",
   "execution_count": 3,
   "metadata": {},
   "outputs": [],
   "source": [
    "def filecoin_rpc(method: str, params):\n",
    "    \"\"\"\n",
    "    Call a Filecoin JSON-RPC method with the given parameters.\n",
    "    \"\"\"\n",
    "    payload = {\n",
    "        \"jsonrpc\": \"2.0\",\n",
    "        \"method\": method,\n",
    "        \"params\": params,\n",
    "        \"id\": 1,\n",
    "    }\n",
    "    response = requests.post(ENDPOINT_URL, json=payload).json()\n",
    "    if \"error\" in response:\n",
    "        raise Exception(response[\"error\"])\n",
    "    return response[\"result\"]"
   ]
  },
  {
   "cell_type": "code",
   "execution_count": 4,
   "metadata": {},
   "outputs": [
    {
     "name": "stdout",
     "output_type": "stream",
     "text": [
      "Latest epoch is 3472632\n"
     ]
    }
   ],
   "source": [
    "chain_head = filecoin_rpc(\"Filecoin.ChainHead\", [])\n",
    "latest_tipset = filecoin_rpc(\n",
    "    \"Filecoin.ChainGetTipSetByHeight\", [chain_head[\"Height\"], None]\n",
    ")\n",
    "print(f\"Latest epoch is {latest_tipset['Height']}\")"
   ]
  },
  {
   "cell_type": "code",
   "execution_count": 5,
   "metadata": {},
   "outputs": [
    {
     "name": "stdout",
     "output_type": "stream",
     "text": [
      "Total number of miners is 612905\n"
     ]
    }
   ],
   "source": [
    "state_miners = filecoin_rpc(\"Filecoin.StateListMiners\", [chain_head[\"Cids\"]])\n",
    "print(f\"Total number of miners is {len(state_miners)}\")"
   ]
  },
  {
   "cell_type": "code",
   "execution_count": 6,
   "metadata": {},
   "outputs": [
    {
     "data": {
      "text/html": [
       "<div>\n",
       "<style scoped>\n",
       "    .dataframe tbody tr th:only-of-type {\n",
       "        vertical-align: middle;\n",
       "    }\n",
       "\n",
       "    .dataframe tbody tr th {\n",
       "        vertical-align: top;\n",
       "    }\n",
       "\n",
       "    .dataframe thead th {\n",
       "        text-align: right;\n",
       "    }\n",
       "</style>\n",
       "<table border=\"1\" class=\"dataframe\">\n",
       "  <thead>\n",
       "    <tr style=\"text-align: right;\">\n",
       "      <th></th>\n",
       "      <th>SectorNumber</th>\n",
       "      <th>SealProof</th>\n",
       "      <th>SealedCID</th>\n",
       "      <th>DealIDs</th>\n",
       "      <th>Activation</th>\n",
       "      <th>Expiration</th>\n",
       "      <th>DealWeight</th>\n",
       "      <th>VerifiedDealWeight</th>\n",
       "      <th>InitialPledge</th>\n",
       "      <th>ExpectedDayReward</th>\n",
       "      <th>ExpectedStoragePledge</th>\n",
       "      <th>ReplacedSectorAge</th>\n",
       "      <th>ReplacedDayReward</th>\n",
       "      <th>SectorKeyCID</th>\n",
       "      <th>SimpleQAPower</th>\n",
       "    </tr>\n",
       "  </thead>\n",
       "  <tbody>\n",
       "    <tr>\n",
       "      <th>60110</th>\n",
       "      <td>901448</td>\n",
       "      <td>8</td>\n",
       "      <td>{'/': 'bagboea4b5abcaimztuk5b4zfk647ym2xxzjri2...</td>\n",
       "      <td>None</td>\n",
       "      <td>1375386</td>\n",
       "      <td>3159720</td>\n",
       "      <td>0</td>\n",
       "      <td>0</td>\n",
       "      <td>147891627031854455</td>\n",
       "      <td>691015329331277</td>\n",
       "      <td>13593616660539049</td>\n",
       "      <td>0</td>\n",
       "      <td>0</td>\n",
       "      <td>None</td>\n",
       "      <td>False</td>\n",
       "    </tr>\n",
       "    <tr>\n",
       "      <th>51471</th>\n",
       "      <td>706607</td>\n",
       "      <td>8</td>\n",
       "      <td>{'/': 'bagboea4b5abcb4w3fcyj27skfregixatne5xrh...</td>\n",
       "      <td>None</td>\n",
       "      <td>1397924</td>\n",
       "      <td>3182867</td>\n",
       "      <td>0</td>\n",
       "      <td>0</td>\n",
       "      <td>148949142844069778</td>\n",
       "      <td>681659617724107</td>\n",
       "      <td>13531686513627846</td>\n",
       "      <td>0</td>\n",
       "      <td>0</td>\n",
       "      <td>None</td>\n",
       "      <td>False</td>\n",
       "    </tr>\n",
       "    <tr>\n",
       "      <th>77737</th>\n",
       "      <td>1101579</td>\n",
       "      <td>8</td>\n",
       "      <td>{'/': 'bagboea4b5abcarxa5j2gscomovfd474qpwndjc...</td>\n",
       "      <td>None</td>\n",
       "      <td>1620605</td>\n",
       "      <td>3342960</td>\n",
       "      <td>0</td>\n",
       "      <td>0</td>\n",
       "      <td>158764913569939844</td>\n",
       "      <td>594574059570375</td>\n",
       "      <td>11739598187102572</td>\n",
       "      <td>0</td>\n",
       "      <td>0</td>\n",
       "      <td>None</td>\n",
       "      <td>False</td>\n",
       "    </tr>\n",
       "    <tr>\n",
       "      <th>26698</th>\n",
       "      <td>400946</td>\n",
       "      <td>8</td>\n",
       "      <td>{'/': 'bagboea4b5abcaaeefztz7gxpeu2usmdevgzmwt...</td>\n",
       "      <td>None</td>\n",
       "      <td>1375623</td>\n",
       "      <td>3159720</td>\n",
       "      <td>0</td>\n",
       "      <td>0</td>\n",
       "      <td>147889104216986747</td>\n",
       "      <td>690870682561322</td>\n",
       "      <td>13585881471918062</td>\n",
       "      <td>0</td>\n",
       "      <td>0</td>\n",
       "      <td>None</td>\n",
       "      <td>False</td>\n",
       "    </tr>\n",
       "    <tr>\n",
       "      <th>114117</th>\n",
       "      <td>5015641</td>\n",
       "      <td>8</td>\n",
       "      <td>{'/': 'bagboea4b5abcac42e44cb37smjm7wq4fcbn6wi...</td>\n",
       "      <td>[55633165]</td>\n",
       "      <td>3236503</td>\n",
       "      <td>4324334</td>\n",
       "      <td>0</td>\n",
       "      <td>37377588548599808</td>\n",
       "      <td>1899995191011097709</td>\n",
       "      <td>2146490162356217</td>\n",
       "      <td>42027255114188709</td>\n",
       "      <td>0</td>\n",
       "      <td>0</td>\n",
       "      <td>None</td>\n",
       "      <td>False</td>\n",
       "    </tr>\n",
       "  </tbody>\n",
       "</table>\n",
       "</div>"
      ],
      "text/plain": [
       "        SectorNumber  SealProof  \\\n",
       "60110         901448          8   \n",
       "51471         706607          8   \n",
       "77737        1101579          8   \n",
       "26698         400946          8   \n",
       "114117       5015641          8   \n",
       "\n",
       "                                                SealedCID     DealIDs  \\\n",
       "60110   {'/': 'bagboea4b5abcaimztuk5b4zfk647ym2xxzjri2...        None   \n",
       "51471   {'/': 'bagboea4b5abcb4w3fcyj27skfregixatne5xrh...        None   \n",
       "77737   {'/': 'bagboea4b5abcarxa5j2gscomovfd474qpwndjc...        None   \n",
       "26698   {'/': 'bagboea4b5abcaaeefztz7gxpeu2usmdevgzmwt...        None   \n",
       "114117  {'/': 'bagboea4b5abcac42e44cb37smjm7wq4fcbn6wi...  [55633165]   \n",
       "\n",
       "        Activation  Expiration DealWeight VerifiedDealWeight  \\\n",
       "60110      1375386     3159720          0                  0   \n",
       "51471      1397924     3182867          0                  0   \n",
       "77737      1620605     3342960          0                  0   \n",
       "26698      1375623     3159720          0                  0   \n",
       "114117     3236503     4324334          0  37377588548599808   \n",
       "\n",
       "              InitialPledge ExpectedDayReward ExpectedStoragePledge  \\\n",
       "60110    147891627031854455   691015329331277     13593616660539049   \n",
       "51471    148949142844069778   681659617724107     13531686513627846   \n",
       "77737    158764913569939844   594574059570375     11739598187102572   \n",
       "26698    147889104216986747   690870682561322     13585881471918062   \n",
       "114117  1899995191011097709  2146490162356217     42027255114188709   \n",
       "\n",
       "        ReplacedSectorAge ReplacedDayReward SectorKeyCID  SimpleQAPower  \n",
       "60110                   0                 0         None          False  \n",
       "51471                   0                 0         None          False  \n",
       "77737                   0                 0         None          False  \n",
       "26698                   0                 0         None          False  \n",
       "114117                  0                 0         None          False  "
      ]
     },
     "execution_count": 6,
     "metadata": {},
     "output_type": "execute_result"
    }
   ],
   "source": [
    "StateMinerSectors = pd.DataFrame(\n",
    "    filecoin_rpc(\"Filecoin.StateMinerSectors\", [\"f01114587\", None, chain_head[\"Cids\"]])\n",
    ")\n",
    "StateMinerSectors.sample(5)"
   ]
  },
  {
   "cell_type": "code",
   "execution_count": 19,
   "metadata": {},
   "outputs": [
    {
     "data": {
      "text/html": [
       "<div>\n",
       "<style scoped>\n",
       "    .dataframe tbody tr th:only-of-type {\n",
       "        vertical-align: middle;\n",
       "    }\n",
       "\n",
       "    .dataframe tbody tr th {\n",
       "        vertical-align: top;\n",
       "    }\n",
       "\n",
       "    .dataframe thead th {\n",
       "        text-align: right;\n",
       "    }\n",
       "</style>\n",
       "<table border=\"1\" class=\"dataframe\">\n",
       "  <thead>\n",
       "    <tr style=\"text-align: right;\">\n",
       "      <th></th>\n",
       "      <th>AllSectors</th>\n",
       "      <th>FaultySectors</th>\n",
       "      <th>RecoveringSectors</th>\n",
       "      <th>LiveSectors</th>\n",
       "      <th>ActiveSectors</th>\n",
       "    </tr>\n",
       "  </thead>\n",
       "  <tbody>\n",
       "    <tr>\n",
       "      <th>0</th>\n",
       "      <td>[3, 8, 1, 3, 1, 7, 1, 5, 1, 11, 2, 2, 1, 3, 1,...</td>\n",
       "      <td>[0]</td>\n",
       "      <td>[0]</td>\n",
       "      <td>[0]</td>\n",
       "      <td>[0]</td>\n",
       "    </tr>\n",
       "    <tr>\n",
       "      <th>1</th>\n",
       "      <td>[5014864, 3, 1, 28, 1, 2, 723, 2, 2, 2, 1, 24,...</td>\n",
       "      <td>[0]</td>\n",
       "      <td>[0]</td>\n",
       "      <td>[5014864, 3, 1, 28, 1, 2, 723, 2, 2, 2, 1, 24,...</td>\n",
       "      <td>[5014864, 3, 1, 28, 1, 2, 723, 2, 2, 2, 1, 24,...</td>\n",
       "    </tr>\n",
       "  </tbody>\n",
       "</table>\n",
       "</div>"
      ],
      "text/plain": [
       "                                          AllSectors FaultySectors  \\\n",
       "0  [3, 8, 1, 3, 1, 7, 1, 5, 1, 11, 2, 2, 1, 3, 1,...           [0]   \n",
       "1  [5014864, 3, 1, 28, 1, 2, 723, 2, 2, 2, 1, 24,...           [0]   \n",
       "\n",
       "  RecoveringSectors                                        LiveSectors  \\\n",
       "0               [0]                                                [0]   \n",
       "1               [0]  [5014864, 3, 1, 28, 1, 2, 723, 2, 2, 2, 1, 24,...   \n",
       "\n",
       "                                       ActiveSectors  \n",
       "0                                                [0]  \n",
       "1  [5014864, 3, 1, 28, 1, 2, 723, 2, 2, 2, 1, 24,...  "
      ]
     },
     "execution_count": 19,
     "metadata": {},
     "output_type": "execute_result"
    }
   ],
   "source": [
    "StateMinerPartitions = pd.DataFrame(\n",
    "    filecoin_rpc(\n",
    "        \"Filecoin.StateMinerPartitions\", [\"f01114587\", None, chain_head[\"Cids\"]]\n",
    "    )\n",
    ")\n",
    "StateMinerPartitions"
   ]
  },
  {
   "cell_type": "code",
   "execution_count": 7,
   "metadata": {},
   "outputs": [
    {
     "data": {
      "text/html": [
       "<div>\n",
       "<style scoped>\n",
       "    .dataframe tbody tr th:only-of-type {\n",
       "        vertical-align: middle;\n",
       "    }\n",
       "\n",
       "    .dataframe tbody tr th {\n",
       "        vertical-align: top;\n",
       "    }\n",
       "\n",
       "    .dataframe thead th {\n",
       "        text-align: right;\n",
       "    }\n",
       "</style>\n",
       "<table border=\"1\" class=\"dataframe\">\n",
       "  <thead>\n",
       "    <tr style=\"text-align: right;\">\n",
       "      <th></th>\n",
       "      <th>MinerPower</th>\n",
       "      <th>TotalPower</th>\n",
       "      <th>HasMinPower</th>\n",
       "    </tr>\n",
       "  </thead>\n",
       "  <tbody>\n",
       "    <tr>\n",
       "      <th>RawBytePower</th>\n",
       "      <td>3141407799771136</td>\n",
       "      <td>10149576889514065920</td>\n",
       "      <td>True</td>\n",
       "    </tr>\n",
       "    <tr>\n",
       "      <th>QualityAdjPower</th>\n",
       "      <td>31355404038176768</td>\n",
       "      <td>28283031234541748224</td>\n",
       "      <td>True</td>\n",
       "    </tr>\n",
       "  </tbody>\n",
       "</table>\n",
       "</div>"
      ],
      "text/plain": [
       "                        MinerPower            TotalPower  HasMinPower\n",
       "RawBytePower      3141407799771136  10149576889514065920         True\n",
       "QualityAdjPower  31355404038176768  28283031234541748224         True"
      ]
     },
     "execution_count": 7,
     "metadata": {},
     "output_type": "execute_result"
    }
   ],
   "source": [
    "StateMinerPower = pd.DataFrame(\n",
    "    filecoin_rpc(\"Filecoin.StateMinerPower\", [\"f01114587\", chain_head[\"Cids\"]])\n",
    ")\n",
    "StateMinerPower"
   ]
  },
  {
   "cell_type": "code",
   "execution_count": 13,
   "metadata": {},
   "outputs": [
    {
     "ename": "CatalogException",
     "evalue": "Catalog Error: Table with name raw_storage_provider_daily_power does not exist!\nDid you mean \"public.raw_storage_providers_location_provider_quest\"?",
     "output_type": "error",
     "traceback": [
      "\u001b[0;31m---------------------------------------------------------------------------\u001b[0m",
      "\u001b[0;31mCatalogException\u001b[0m                          Traceback (most recent call last)",
      "Cell \u001b[0;32mIn[13], line 3\u001b[0m\n\u001b[1;32m      1\u001b[0m \u001b[38;5;28;01mfrom\u001b[39;00m \u001b[38;5;21;01mfdp\u001b[39;00m\u001b[38;5;21;01m.\u001b[39;00m\u001b[38;5;21;01mdb\u001b[39;00m \u001b[38;5;28;01mimport\u001b[39;00m query\n\u001b[0;32m----> 3\u001b[0m \u001b[43mquery\u001b[49m\u001b[43m(\u001b[49m\u001b[38;5;124;43m\"\u001b[39;49m\u001b[38;5;124;43mselect * from raw_storage_provider_daily_power limit 10\u001b[39;49m\u001b[38;5;124;43m\"\u001b[39;49m\u001b[43m)\u001b[49m\n",
      "File \u001b[0;32m/workspaces/filecoin-data-portal/fdp/db.py:9\u001b[0m, in \u001b[0;36mquery\u001b[0;34m(sql)\u001b[0m\n\u001b[1;32m      8\u001b[0m \u001b[38;5;28;01mdef\u001b[39;00m \u001b[38;5;21mquery\u001b[39m(sql):\n\u001b[0;32m----> 9\u001b[0m \u001b[43m    \u001b[49m\u001b[38;5;28;43;01mwith\u001b[39;49;00m\u001b[43m \u001b[49m\u001b[43mduckdb\u001b[49m\u001b[38;5;241;43m.\u001b[39;49m\u001b[43mconnect\u001b[49m\u001b[43m(\u001b[49m\u001b[43mdatabase\u001b[49m\u001b[38;5;241;43m=\u001b[39;49m\u001b[38;5;124;43mf\u001b[39;49m\u001b[38;5;124;43m\"\u001b[39;49m\u001b[38;5;132;43;01m{\u001b[39;49;00m\u001b[43mDATA_DIR\u001b[49m\u001b[38;5;132;43;01m}\u001b[39;49;00m\u001b[38;5;124;43m/local.duckdb\u001b[39;49m\u001b[38;5;124;43m\"\u001b[39;49m\u001b[43m)\u001b[49m\u001b[43m \u001b[49m\u001b[38;5;28;43;01mas\u001b[39;49;00m\u001b[43m \u001b[49m\u001b[43mcon\u001b[49m\u001b[43m:\u001b[49m\n\u001b[1;32m     10\u001b[0m \u001b[43m        \u001b[49m\u001b[38;5;28;43;01mreturn\u001b[39;49;00m\u001b[43m \u001b[49m\u001b[43mcon\u001b[49m\u001b[38;5;241;43m.\u001b[39;49m\u001b[43msql\u001b[49m\u001b[43m(\u001b[49m\u001b[43msql\u001b[49m\u001b[43m)\u001b[49m\u001b[38;5;241;43m.\u001b[39;49m\u001b[43mdf\u001b[49m\u001b[43m(\u001b[49m\u001b[43m)\u001b[49m\n",
      "File \u001b[0;32m/workspaces/filecoin-data-portal/fdp/db.py:10\u001b[0m, in \u001b[0;36mquery\u001b[0;34m(sql)\u001b[0m\n\u001b[1;32m      8\u001b[0m \u001b[38;5;28;01mdef\u001b[39;00m \u001b[38;5;21mquery\u001b[39m(sql):\n\u001b[1;32m      9\u001b[0m     \u001b[38;5;28;01mwith\u001b[39;00m duckdb\u001b[38;5;241m.\u001b[39mconnect(database\u001b[38;5;241m=\u001b[39m\u001b[38;5;124mf\u001b[39m\u001b[38;5;124m\"\u001b[39m\u001b[38;5;132;01m{\u001b[39;00mDATA_DIR\u001b[38;5;132;01m}\u001b[39;00m\u001b[38;5;124m/local.duckdb\u001b[39m\u001b[38;5;124m\"\u001b[39m) \u001b[38;5;28;01mas\u001b[39;00m con:\n\u001b[0;32m---> 10\u001b[0m         \u001b[38;5;28;01mreturn\u001b[39;00m \u001b[43mcon\u001b[49m\u001b[38;5;241;43m.\u001b[39;49m\u001b[43msql\u001b[49m\u001b[43m(\u001b[49m\u001b[43msql\u001b[49m\u001b[43m)\u001b[49m\u001b[38;5;241m.\u001b[39mdf()\n",
      "\u001b[0;31mCatalogException\u001b[0m: Catalog Error: Table with name raw_storage_provider_daily_power does not exist!\nDid you mean \"public.raw_storage_providers_location_provider_quest\"?"
     ]
    }
   ],
   "source": [
    "from fdp.db import query\n",
    "\n",
    "query(\"select * from raw_storage_provider_daily_power limit 10\")"
   ]
  },
  {
   "cell_type": "code",
   "execution_count": 15,
   "metadata": {},
   "outputs": [
    {
     "name": "stdout",
     "output_type": "stream",
     "text": [
      "\n",
      "\u001b[1m[\u001b[0m\u001b[34;49mnotice\u001b[0m\u001b[1;39;49m]\u001b[0m\u001b[39;49m A new release of pip is available: \u001b[0m\u001b[31;49m23.2.1\u001b[0m\u001b[39;49m -> \u001b[0m\u001b[32;49m23.3.1\u001b[0m\n",
      "\u001b[1m[\u001b[0m\u001b[34;49mnotice\u001b[0m\u001b[1;39;49m]\u001b[0m\u001b[39;49m To update, run: \u001b[0m\u001b[32;49mpip install --upgrade pip\u001b[0m\n",
      "Note: you may need to restart the kernel to use updated packages.\n"
     ]
    }
   ],
   "source": [
    "%pip install httpx --quiet"
   ]
  },
  {
   "cell_type": "code",
   "execution_count": 17,
   "metadata": {},
   "outputs": [
    {
     "data": {
      "text/plain": [
       "{'args': {},\n",
       " 'headers': {'Accept': '*/*',\n",
       "  'Accept-Encoding': 'gzip, deflate',\n",
       "  'Host': 'httpbin.org',\n",
       "  'User-Agent': 'python-httpx/0.25.2',\n",
       "  'X-Amzn-Trace-Id': 'Root=1-6579df8c-529f6562083d9b6c62d1b021'},\n",
       " 'origin': '83.60.226.183',\n",
       " 'url': 'https://httpbin.org/get'}"
      ]
     },
     "execution_count": 17,
     "metadata": {},
     "output_type": "execute_result"
    }
   ],
   "source": [
    "import httpx\n",
    "\n",
    "r = httpx.get(\"https://httpbin.org/get\")\n",
    "r.json()"
   ]
  },
  {
   "cell_type": "code",
   "execution_count": 33,
   "metadata": {},
   "outputs": [
    {
     "data": {
      "text/plain": [
       "{'jsonrpc': '2.0',\n",
       " 'result': {'Cids': [{'/': 'bafy2bzacednou3obfgftqedzaw3uxqrht6kgsnlyari73myagihwsio2uwb4m'},\n",
       "   {'/': 'bafy2bzacedjbwqotzvekzyha7wyq3brfn5fw64zkcnisyxrktep4cypode5ss'},\n",
       "   {'/': 'bafy2bzacebsnhegv5tinhl4iedteaxtsa36ucaau2jcslpiacq6tonkfgkrgk'},\n",
       "   {'/': 'bafy2bzacebkqjzd6ty4v5lhnmcpbttuvy4hgz4v2xygrysx4lsixu5phje7v4'}],\n",
       "  'Blocks': [{'Miner': 'f01981603',\n",
       "    'Ticket': {'VRFProof': 'gc/wabtcjVc9Pb9EQKZ3qw3NB/Qst1b63Aw1STtTLN5AGIjqmBTOHhmdOpBucY1SD0azhL03CG33JYslEMsBcyGB8WHr3/NiP92NyE+H9brH6w8nyZNNmYbxIdgyT3iv'},\n",
       "    'ElectionProof': {'WinCount': 1,\n",
       "     'VRFProof': 't8De6UsNotIXdQ7iMCShCb9/geB69LV9cB6a5eVOWdd0/23jcCnVsGGxv9JyO8S/Cbf+HaLdFy5K6LrmfC1xmcCqlI4ghLjHqJVPt+QCAakQ16zysTpO6pC7MuucFdgI'},\n",
       "    'BeaconEntries': [{'Round': 3568507,\n",
       "      'Data': 'ky457BzAo/jx2Y0FtMVt6/41rxn0EpK9AYWE9yyhpKKADIdI9ew6TQFyKHTaXwkqBIrVVnzpMGSBgUQQ+ygPkvJLi7Kdyzd1NXnAOK+ljik7n7hEI3vvVON4zoXQQzWF'}],\n",
       "    'WinPoStProof': [{'PoStProof': 3,\n",
       "      'ProofBytes': 'l65dqne4TlgOveM41NI+8foojBa8THobltOLyA955z0qZr5b6kNHk0qOHqwTVqrLkHjGRWRLGggYB7phKnGUDqqnyZ54sP9zdzs9ObgS8s99LCELcvzSu/9zABzKU6luDtXzryOd4TsoacsIjGVG6ZAbziae6DXwWPSoGEwFkVZEizA0FQkec9QrR5OeU+KtjR6eTS58NIMjqDtRyPmyTnHdDT0HVqq5fS/SBxCzEXNo2H4tbJgbLzRybQeK8MWC'}],\n",
       "    'Parents': [{'/': 'bafy2bzaceacnagju4z2mb32zhvusi4gerduny5px3vzx6xhhibotlx7t7ajvk'},\n",
       "     {'/': 'bafy2bzacec3l4ha6deq6xx4hzpjle4jwtsxdgbeeeoraxycaetvnpcbhhwmfe'},\n",
       "     {'/': 'bafy2bzacedpe5gdr5mftngyin4yq3r6b77b5o7s53bc5yvkmkyq6yqe2qyona'},\n",
       "     {'/': 'bafy2bzaceb3eseh5gcnlepuc7nr5vzon2zrm2ebi2mjursjkiyw42m2egskxo'},\n",
       "     {'/': 'bafy2bzacedjq7rbmnli5p7tv62cfgr6b6iai43shoaif6lcfw4quczdni5ivc'},\n",
       "     {'/': 'bafy2bzaced3a7otnbc27e75t2hc32vldmaaicqbqprjnktqq6rxdgp233krzg'}],\n",
       "    'ParentWeight': '82241292301',\n",
       "    'Height': 3472662,\n",
       "    'ParentStateRoot': {'/': 'bafy2bzacebgje2eepcopvmv4xhdz32acudg7lkpkzzavqhpqvvoczdx26xjrk'},\n",
       "    'ParentMessageReceipts': {'/': 'bafy2bzacec6u2sutfjqv7jhinrbqvc65xfbfay5omr2mm7bmjoowgb5c5wp4i'},\n",
       "    'Messages': {'/': 'bafy2bzacedk3ngcfo4atvl4rv5rxaif5xacm44zuifrpezp6pqpubvxzdx6ni'},\n",
       "    'BLSAggregate': {'Type': 2,\n",
       "     'Data': 'sO+gNd6A3PbRx8mg2b8ysdVVHInLxq9QbYkVyH0Cqs/ocBL9sIDzFsxSAoLjaAbDF7ERdzyeKpLCWhVNm2CELbF/NN6UQqvYRCXV56qUa5uiK2bAYsXrj4JlMzfJpIKV'},\n",
       "    'Timestamp': 1702486260,\n",
       "    'BlockSig': {'Type': 2,\n",
       "     'Data': 'jjq+zvKWEWeK/uBcJq2XcGCkVCaQDAAnjQWLi0KcDQmJki2nShfB0RdoJQjvvXvwFJDt3OtNT0yN0csk2gGb6PTg8M3eiNtxEoVQmx/vMgNnGYhyLHBGa+PtgT1JwOF5'},\n",
       "    'ForkSignaling': 0,\n",
       "    'ParentBaseFee': '100'},\n",
       "   {'Miner': 'f01690363',\n",
       "    'Ticket': {'VRFProof': 'lyZksts3YDTQag1RV3Oo6uLdwsstrsw4Ry0An5fvLDf5AKWLYrLg03gxGi2kIb+SBuq1D7xMyGRderB6NPcZod5QwBVtgbxT+y5GCIBShSygCUgrHwdLvIAkctVpG/7S'},\n",
       "    'ElectionProof': {'WinCount': 1,\n",
       "     'VRFProof': 'lwL13ot5qFs9Xwmck2fgB4IANFgzWT72TTxE/9bA8b9fk+459ai4fWsBYNpOzaZNDpOne3ptQmBUg2SqEQNa9TyECtSeDpmAALnVDUyFSYYAbV98w3S83A4L7ClA8QtF'},\n",
       "    'BeaconEntries': [{'Round': 3568507,\n",
       "      'Data': 'ky457BzAo/jx2Y0FtMVt6/41rxn0EpK9AYWE9yyhpKKADIdI9ew6TQFyKHTaXwkqBIrVVnzpMGSBgUQQ+ygPkvJLi7Kdyzd1NXnAOK+ljik7n7hEI3vvVON4zoXQQzWF'}],\n",
       "    'WinPoStProof': [{'PoStProof': 3,\n",
       "      'ProofBytes': 'rgpAOnxLXjJNOK4rgkb8cvOoz8FY9nsx06pr/mXlVWsMce+0kCzyOKsrG8jVZRTqr7QyaHPpO7mz94qMHED4tceFGLoTpDFOAJIFyHo28lKDKIA1iZqiTGk1oG4/1f/PAHeG5tk28q24WmhJ+K2F2O7lf/m4oe2pgxQGvbNEfTJs0RkpmisOqdzbCfksD2rJg4uUk3CfSEarDaRbCJsYGaMfnD9m7dHrxxIQy/vJeAlS++eSZtoW7AlsT4FkJhQR'}],\n",
       "    'Parents': [{'/': 'bafy2bzaceacnagju4z2mb32zhvusi4gerduny5px3vzx6xhhibotlx7t7ajvk'},\n",
       "     {'/': 'bafy2bzacec3l4ha6deq6xx4hzpjle4jwtsxdgbeeeoraxycaetvnpcbhhwmfe'},\n",
       "     {'/': 'bafy2bzacedpe5gdr5mftngyin4yq3r6b77b5o7s53bc5yvkmkyq6yqe2qyona'},\n",
       "     {'/': 'bafy2bzaceb3eseh5gcnlepuc7nr5vzon2zrm2ebi2mjursjkiyw42m2egskxo'},\n",
       "     {'/': 'bafy2bzacedjq7rbmnli5p7tv62cfgr6b6iai43shoaif6lcfw4quczdni5ivc'},\n",
       "     {'/': 'bafy2bzaced3a7otnbc27e75t2hc32vldmaaicqbqprjnktqq6rxdgp233krzg'}],\n",
       "    'ParentWeight': '82241292301',\n",
       "    'Height': 3472662,\n",
       "    'ParentStateRoot': {'/': 'bafy2bzacebgje2eepcopvmv4xhdz32acudg7lkpkzzavqhpqvvoczdx26xjrk'},\n",
       "    'ParentMessageReceipts': {'/': 'bafy2bzacec6u2sutfjqv7jhinrbqvc65xfbfay5omr2mm7bmjoowgb5c5wp4i'},\n",
       "    'Messages': {'/': 'bafy2bzaceczghkta4k4hqrekxuqmow77tujtfb54mgfrbbj3qv4to546f7xc2'},\n",
       "    'BLSAggregate': {'Type': 2,\n",
       "     'Data': 's9JiLVjcpQ2YFPiUo8OHsr9/OUUPojOgZDCapFHt69FMyAoc7UAGGdpezGzJ6ZL8CCgQEemQGbffIiN0TFF+BiWDa01bfTkzaoPMDNSGd038/k2ADxgCJZmY7vbfLPNq'},\n",
       "    'Timestamp': 1702486260,\n",
       "    'BlockSig': {'Type': 2,\n",
       "     'Data': 'qAtpBJwQPASuNqEPqaiJP8hsJ7teuZWStNytIFzy5AXApduOLqsAE1FLsWysFdYSDyf3VHHfIxe8aByJVhBRjPTFyLelkjiGjXbOHM+H+60AX8qwZUJqUlz8Ifmoghw7'},\n",
       "    'ForkSignaling': 0,\n",
       "    'ParentBaseFee': '100'},\n",
       "   {'Miner': 'f01926802',\n",
       "    'Ticket': {'VRFProof': 'riwaE0uwA8JjPDKbYippWTAnnQ5mjohYLVIAbl6MqAxUUNd/BPdaFiPoHC7avQjdFjvXTZTuMnVrHiRZ/wYLDQHoMVw8xN2k2OhDtcoah8BYjaAzYxyp7rom3KrKx7Ex'},\n",
       "    'ElectionProof': {'WinCount': 1,\n",
       "     'VRFProof': 'qPqVkjOdQaS8ri6DwD1jSPKSi4VwqAqyXDH8fjn3OoHKVJoiPoNCrhUu/Nn3VigqEiE46e314r/Ecoch+ebX7iIGPmaTE+a4VnQeioYMy/p47Oh4Wfh0Z+T5JtHq09KV'},\n",
       "    'BeaconEntries': [{'Round': 3568507,\n",
       "      'Data': 'ky457BzAo/jx2Y0FtMVt6/41rxn0EpK9AYWE9yyhpKKADIdI9ew6TQFyKHTaXwkqBIrVVnzpMGSBgUQQ+ygPkvJLi7Kdyzd1NXnAOK+ljik7n7hEI3vvVON4zoXQQzWF'}],\n",
       "    'WinPoStProof': [{'PoStProof': 3,\n",
       "      'ProofBytes': 'haOduOvZsR6DvIxgVVwNmaYa5WLZrtuZ2XH8lpEK0sAbhh/WtEv3Voxj+Oj5bqOxqc4p8c6t2FZ3qei/BY5JyOV5B+BGA5Haxi0ErtVG0S+ds2kSHWd58SJI/Hv2VRYfEHXg9HvWW5SGU5Ke8TtbPsxp42obLf6Nu2LvJA+9JnGPhhIoLnq2m56uiyu56vkPi2ge3voDq/NoRXx+uWKZj21z1A2NbeHTh6GHSvuiGYKeTopvI71d/PChyEB8kbMB'}],\n",
       "    'Parents': [{'/': 'bafy2bzaceacnagju4z2mb32zhvusi4gerduny5px3vzx6xhhibotlx7t7ajvk'},\n",
       "     {'/': 'bafy2bzacec3l4ha6deq6xx4hzpjle4jwtsxdgbeeeoraxycaetvnpcbhhwmfe'},\n",
       "     {'/': 'bafy2bzacedpe5gdr5mftngyin4yq3r6b77b5o7s53bc5yvkmkyq6yqe2qyona'},\n",
       "     {'/': 'bafy2bzaceb3eseh5gcnlepuc7nr5vzon2zrm2ebi2mjursjkiyw42m2egskxo'},\n",
       "     {'/': 'bafy2bzacedjq7rbmnli5p7tv62cfgr6b6iai43shoaif6lcfw4quczdni5ivc'},\n",
       "     {'/': 'bafy2bzaced3a7otnbc27e75t2hc32vldmaaicqbqprjnktqq6rxdgp233krzg'}],\n",
       "    'ParentWeight': '82241292301',\n",
       "    'Height': 3472662,\n",
       "    'ParentStateRoot': {'/': 'bafy2bzacebgje2eepcopvmv4xhdz32acudg7lkpkzzavqhpqvvoczdx26xjrk'},\n",
       "    'ParentMessageReceipts': {'/': 'bafy2bzacec6u2sutfjqv7jhinrbqvc65xfbfay5omr2mm7bmjoowgb5c5wp4i'},\n",
       "    'Messages': {'/': 'bafy2bzacebjgflqy67prweifk47gq4aokzeqrvvvsotzdy4upl2w7gmmlz3wa'},\n",
       "    'BLSAggregate': {'Type': 2,\n",
       "     'Data': 's8HLicLFA0l0zfLdZdwvxWe9bfJoC0lJ6YkC5ysYznFkFPmT3+Xl2bvQHj6Q5JcNGT9dng6sdAi6iY7/oto+LP0RJUfl3qzKpuzp7jiTy7hI3oybDJU2kHHKI4PmSRYM'},\n",
       "    'Timestamp': 1702486260,\n",
       "    'BlockSig': {'Type': 2,\n",
       "     'Data': 'oabGq+amUA3FK3VB3yk+CP4zxgdEIASnkQaCXU9kYDwS0JmAT1pgSp13XhnCpmuEFHJZGStHhkH9R3061/OeytODKTr9OZcLhO6LyQrgHhyirNV818EI94IWJHE7SKFf'},\n",
       "    'ForkSignaling': 0,\n",
       "    'ParentBaseFee': '100'},\n",
       "   {'Miner': 'f01915287',\n",
       "    'Ticket': {'VRFProof': 'tsLISo4LYRkQWoV3s7MOm3Oxeg3kZsXzhkj7dBZFr9lagXHw9UZrDKKGv9awfl0vAgvIEnzYLifwAADpWOfmpjjYC4mWkZyKkHFBiuDf99snMiBH+mcl5fT6++U7mt6F'},\n",
       "    'ElectionProof': {'WinCount': 1,\n",
       "     'VRFProof': 'tv1D/+MrtUPv/aj+iBpxwa7frQ/RgFIndtaeOw9zLoS0Jry4pb5BX30iW9nfWLFyE1B2h8YjRMuzm9Eu05cjSDVgEVaIsCQODMcy3SjVNblBsEslwCR1cvshixuTWFK0'},\n",
       "    'BeaconEntries': [{'Round': 3568507,\n",
       "      'Data': 'ky457BzAo/jx2Y0FtMVt6/41rxn0EpK9AYWE9yyhpKKADIdI9ew6TQFyKHTaXwkqBIrVVnzpMGSBgUQQ+ygPkvJLi7Kdyzd1NXnAOK+ljik7n7hEI3vvVON4zoXQQzWF'}],\n",
       "    'WinPoStProof': [{'PoStProof': 3,\n",
       "      'ProofBytes': 'sK4YbQJHr7O+2sT1sWbAtrdcnVZu8o1xdwT9yuRUEtGwkEjwclyGbeT0ECSaanBUgUR3n9j4GVZKcdd2pqvu5OhTvkUPdAvxuyuFPTGJQZbVonmbfWHUSwsOqsnFUMLeCD0E4RZW9j+53ek/BdlGhi4XW4buoIGbByPgCq0pcymxsm1AMO+/5mSeKQSnM32voxWCuW5TwMLi+jPh3CRs8R29L8e+vOLX3Me+xo6FltSz4neyTPYoSSKGbf7RtLqY'}],\n",
       "    'Parents': [{'/': 'bafy2bzaceacnagju4z2mb32zhvusi4gerduny5px3vzx6xhhibotlx7t7ajvk'},\n",
       "     {'/': 'bafy2bzacec3l4ha6deq6xx4hzpjle4jwtsxdgbeeeoraxycaetvnpcbhhwmfe'},\n",
       "     {'/': 'bafy2bzacedpe5gdr5mftngyin4yq3r6b77b5o7s53bc5yvkmkyq6yqe2qyona'},\n",
       "     {'/': 'bafy2bzaceb3eseh5gcnlepuc7nr5vzon2zrm2ebi2mjursjkiyw42m2egskxo'},\n",
       "     {'/': 'bafy2bzacedjq7rbmnli5p7tv62cfgr6b6iai43shoaif6lcfw4quczdni5ivc'},\n",
       "     {'/': 'bafy2bzaced3a7otnbc27e75t2hc32vldmaaicqbqprjnktqq6rxdgp233krzg'}],\n",
       "    'ParentWeight': '82241292301',\n",
       "    'Height': 3472662,\n",
       "    'ParentStateRoot': {'/': 'bafy2bzacebgje2eepcopvmv4xhdz32acudg7lkpkzzavqhpqvvoczdx26xjrk'},\n",
       "    'ParentMessageReceipts': {'/': 'bafy2bzacec6u2sutfjqv7jhinrbqvc65xfbfay5omr2mm7bmjoowgb5c5wp4i'},\n",
       "    'Messages': {'/': 'bafy2bzacea2gbcjelqvakq7q3krdtpiuleluenkb3ghxduf7py5nf2rs3qs3u'},\n",
       "    'BLSAggregate': {'Type': 2,\n",
       "     'Data': 'rCMiy40X7gBTc+BfwjDoA6WftrMeneoHOAXmSBHI/CadRN7bhy+AEhRvpEjMab20A1eKEsUmQnxEQ2gA9nO2l4Pziy2Sw78rwfmBSdWqgR5EQ6GcFR1p7Lro8Yrbj7e6'},\n",
       "    'Timestamp': 1702486260,\n",
       "    'BlockSig': {'Type': 2,\n",
       "     'Data': 'oLOry3H/rZWhkyKldTt+aiyvGYWKAim4fTKo7lb5ytCp+GszbOAE6JP+D4Wosw7TDpABO8wXZmPtjWhC3Vl/QB03lbO9gLFSzGcULMfaf1+C9IOGhoeilpqYn0q9DVww'},\n",
       "    'ForkSignaling': 0,\n",
       "    'ParentBaseFee': '100'}],\n",
       "  'Height': 3472662},\n",
       " 'id': 1}"
      ]
     },
     "execution_count": 33,
     "metadata": {},
     "output_type": "execute_result"
    }
   ],
   "source": [
    "r.json()"
   ]
  },
  {
   "cell_type": "code",
   "execution_count": 31,
   "metadata": {},
   "outputs": [
    {
     "name": "stdout",
     "output_type": "stream",
     "text": [
      "bafy2bzacednou3obfgftqedzaw3uxqrht6kgsnlyari73myagihwsio2uwb4m\n",
      "bafy2bzacedjbwqotzvekzyha7wyq3brfn5fw64zkcnisyxrktep4cypode5ss\n",
      "bafy2bzacebsnhegv5tinhl4iedteaxtsa36ucaau2jcslpiacq6tonkfgkrgk\n",
      "bafy2bzacebkqjzd6ty4v5lhnmcpbttuvy4hgz4v2xygrysx4lsixu5phje7v4\n"
     ]
    }
   ],
   "source": []
  },
  {
   "cell_type": "code",
   "execution_count": 36,
   "metadata": {},
   "outputs": [
    {
     "data": {
      "text/plain": [
       "3472632"
      ]
     },
     "execution_count": 36,
     "metadata": {},
     "output_type": "execute_result"
    }
   ],
   "source": [
    "chain_head[\"Height\"]"
   ]
  },
  {
   "cell_type": "code",
   "execution_count": 38,
   "metadata": {},
   "outputs": [],
   "source": [
    "f = []\n",
    "async with httpx.AsyncClient() as client:\n",
    "    for i in range(100):\n",
    "        payload = {\n",
    "            \"jsonrpc\": \"2.0\",\n",
    "            \"method\": \"Filecoin.ChainGetTipSetByHeight\",\n",
    "            \"params\": [chain_head[\"Height\"] - i, None],\n",
    "            \"id\": 1,\n",
    "        }\n",
    "        r = client.post(ENDPOINT_URL, json=payload)\n",
    "        f.append(r)"
   ]
  },
  {
   "cell_type": "code",
   "execution_count": 69,
   "metadata": {},
   "outputs": [],
   "source": [
    "import asyncio\n",
    "import httpx\n",
    "\n",
    "\n",
    "async def do_tasks():\n",
    "    async with httpx.AsyncClient() as client:\n",
    "        payload = {\n",
    "            \"jsonrpc\": \"2.0\",\n",
    "            \"method\": \"Filecoin.ChainGetTipSetByHeight\",\n",
    "            \"params\": [chain_head[\"Height\"], None],\n",
    "            \"id\": 1,\n",
    "        }\n",
    "        tasks = [client.post(ENDPOINT_URL, json=payload) for i in range(10)]\n",
    "        result = await asyncio.gather(*tasks)\n",
    "        return result"
   ]
  },
  {
   "cell_type": "code",
   "execution_count": 51,
   "metadata": {},
   "outputs": [],
   "source": [
    "a = do_tasks()"
   ]
  },
  {
   "cell_type": "code",
   "execution_count": 68,
   "metadata": {},
   "outputs": [
    {
     "data": {
      "text/plain": [
       "<coroutine object do_tasks at 0x7fc628f84c40>"
      ]
     },
     "execution_count": 68,
     "metadata": {},
     "output_type": "execute_result"
    }
   ],
   "source": [
    "a"
   ]
  }
 ],
 "metadata": {
  "kernelspec": {
   "display_name": "Python 3",
   "language": "python",
   "name": "python3"
  },
  "language_info": {
   "codemirror_mode": {
    "name": "ipython",
    "version": 3
   },
   "file_extension": ".py",
   "mimetype": "text/x-python",
   "name": "python",
   "nbconvert_exporter": "python",
   "pygments_lexer": "ipython3",
   "version": "3.11.7"
  }
 },
 "nbformat": 4,
 "nbformat_minor": 2
}
